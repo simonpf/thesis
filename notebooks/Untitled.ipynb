{
 "cells": [
  {
   "cell_type": "code",
   "execution_count": 6,
   "id": "89572d9f",
   "metadata": {},
   "outputs": [
    {
     "ename": "SyntaxError",
     "evalue": "invalid syntax (1652838923.py, line 2)",
     "output_type": "error",
     "traceback": [
      "\u001b[0;36m  Input \u001b[0;32mIn [6]\u001b[0;36m\u001b[0m\n\u001b[0;31m    from pansat.products.satellite import\u001b[0m\n\u001b[0m                                          ^\u001b[0m\n\u001b[0;31mSyntaxError\u001b[0m\u001b[0;31m:\u001b[0m invalid syntax\n"
     ]
    }
   ],
   "source": [
    "import pansat\n",
    "from pansat.products.satellite."
   ]
  },
  {
   "cell_type": "code",
   "execution_count": 1,
   "id": "a926db03",
   "metadata": {},
   "outputs": [],
   "source": [
    "from pyarts.workspace import Workspace, arts_agenda"
   ]
  },
  {
   "cell_type": "code",
   "execution_count": 72,
   "id": "1213be6d",
   "metadata": {},
   "outputs": [
    {
     "data": {
      "text/plain": [
       "<pyarts.workspace.agendas.Agenda at 0x7fa85fe3a4f0>"
      ]
     },
     "execution_count": 72,
     "metadata": {},
     "output_type": "execute_result"
    }
   ],
   "source": [
    "ws = Workspace()\n",
    "ws.execute_controlfile(\"general/general.arts\")\n",
    "ws.execute_controlfile(\"general/continua.arts\")\n",
    "ws.execute_controlfile(\"general/agendas.arts\")\n",
    "ws.execute_controlfile(\"general/planet_earth.arts\")"
   ]
  },
  {
   "cell_type": "code",
   "execution_count": 2,
   "id": "eb85025b",
   "metadata": {},
   "outputs": [],
   "source": [
    "from pyarts.xml import save"
   ]
  },
  {
   "cell_type": "code",
   "execution_count": 11,
   "id": "48672b56",
   "metadata": {},
   "outputs": [],
   "source": [
    "import numpy as np\n",
    "p = np.logspace(0, np.log10(101300), 101)"
   ]
  },
  {
   "cell_type": "code",
   "execution_count": 12,
   "id": "2dec8154",
   "metadata": {},
   "outputs": [],
   "source": [
    "save(p[::-1], \"transmissivity/p_grid.xml\")"
   ]
  },
  {
   "cell_type": "code",
   "execution_count": 13,
   "id": "5dad4b55",
   "metadata": {},
   "outputs": [
    {
     "name": "stdout",
     "output_type": "stream",
     "text": [
      "<?xml version=\"1.0\"?>\r\n",
      "<arts version=\"1\" format=\"ascii\">\r\n",
      "<Vector nelem=\"101\">\r\n",
      "1.0130000e+05\r\n",
      "9.0272060e+04\r\n",
      "8.0444667e+04\r\n",
      "7.1687125e+04\r\n",
      "6.3882965e+04\r\n",
      "5.6928399e+04\r\n",
      "5.0730936e+04\r\n",
      "4.5208155e+04\r\n",
      "4.0286607e+04\r\n",
      "3.5900839e+04\r\n",
      "3.1992524e+04\r\n",
      "2.8509684e+04\r\n",
      "2.5406001e+04\r\n",
      "2.2640198e+04\r\n",
      "2.0175491e+04\r\n",
      "1.7979103e+04\r\n",
      "1.6021823e+04\r\n",
      "1.4277621e+04\r\n",
      "1.2723299e+04\r\n",
      "1.1338188e+04\r\n",
      "1.0103865e+04\r\n",
      "9.0039166e+03\r\n",
      "8.0237127e+03\r\n",
      "7.1502178e+03\r\n",
      "6.3718153e+03\r\n",
      "5.6781529e+03\r\n",
      "5.0600055e+03\r\n",
      "4.5091522e+03\r\n",
      "4.0182671e+03\r\n",
      "3.5808218e+03\r\n",
      "3.1909986e+03\r\n",
      "2.8436132e+03\r\n",
      "2.5340456e+03\r\n",
      "2.2581788e+03\r\n",
      "2.0123440e+03\r\n",
      "1.7932719e+03\r\n",
      "1.5980488e+03\r\n",
      "1.4240786e+03\r\n",
      "1.2690474e+03\r\n",
      "1.1308936e+03\r\n",
      "1.0077798e+03\r\n",
      "8.9806873e+02\r\n",
      "8.0030122e+02\r\n",
      "7.1317709e+02\r\n",
      "6.3553766e+02\r\n",
      "5.6635038e+02\r\n",
      "5.0469511e+02\r\n",
      "4.4975190e+02\r\n",
      "4.0079003e+02\r\n",
      "3.5715836e+02\r\n",
      "3.1827661e+02\r\n",
      "2.8362769e+02\r\n",
      "2.5275080e+02\r\n",
      "2.2523529e+02\r\n",
      "2.0071524e+02\r\n",
      "1.7886454e+02\r\n",
      "1.5939260e+02\r\n",
      "1.4204046e+02\r\n",
      "1.2657734e+02\r\n",
      "1.1279760e+02\r\n",
      "1.0051799e+02\r\n",
      "8.9575179e+01\r\n",
      "7.9823651e+01\r\n",
      "7.1133716e+01\r\n",
      "6.3389803e+01\r\n",
      "5.6488924e+01\r\n",
      "5.0339305e+01\r\n",
      "4.4859158e+01\r\n",
      "3.9975603e+01\r\n",
      "3.5623692e+01\r\n",
      "3.1745548e+01\r\n",
      "2.8289596e+01\r\n",
      "2.5209872e+01\r\n",
      "2.2465420e+01\r\n",
      "2.0019741e+01\r\n",
      "1.7840309e+01\r\n",
      "1.5898138e+01\r\n",
      "1.4167401e+01\r\n",
      "1.2625078e+01\r\n",
      "1.1250660e+01\r\n",
      "1.0025866e+01\r\n",
      "8.9344083e+00\r\n",
      "7.9617713e+00\r\n",
      "7.0950197e+00\r\n",
      "6.3226263e+00\r\n",
      "5.6343188e+00\r\n",
      "5.0209434e+00\r\n",
      "4.4743425e+00\r\n",
      "3.9872469e+00\r\n",
      "3.5531786e+00\r\n",
      "3.1663648e+00\r\n",
      "2.8216611e+00\r\n",
      "2.5144833e+00\r\n",
      "2.2407462e+00\r\n",
      "1.9968092e+00\r\n",
      "1.7794282e+00\r\n",
      "1.5857122e+00\r\n",
      "1.4130850e+00\r\n",
      "1.2592507e+00\r\n",
      "1.1221634e+00\r\n",
      "1.0000000e+00\r\n",
      "</Vector>\r\n",
      "</arts>\r\n"
     ]
    }
   ],
   "source": [
    "%cat transmissivity/p_grid.xml"
   ]
  },
  {
   "cell_type": "code",
   "execution_count": 74,
   "id": "a4db2fa5",
   "metadata": {},
   "outputs": [],
   "source": [
    "ws.Copy( ws.iy_main_agenda, ws.iy_main_agenda__Emission )\n",
    "ws.Copy( ws.iy_space_agenda, ws.iy_space_agenda__CosmicBackground )\n",
    "ws.Copy( ws.iy_surface_agenda, ws.iy_surface_agenda__UseSurfaceRtprop )\n",
    "ws.Copy( ws.ppath_agenda, ws.ppath_agenda__FollowSensorLosPath )\n",
    "ws.Copy( ws.ppath_step_agenda, ws.ppath_step_agenda__GeometricPath )\n",
    "ws.Copy( ws.propmat_clearsky_agenda, ws.propmat_clearsky_agenda__LookUpTable )\n",
    "ws.Copy( ws.iy_main_agenda, ws.iy_main_agenda__Emission )\n",
    "ws.Copy( ws.iy_space_agenda, ws.iy_space_agenda__CosmicBackground )\n",
    "ws.Copy( ws.iy_surface_agenda, ws.iy_surface_agenda__UseSurfaceRtprop )\n",
    "ws.Copy( ws.ppath_agenda, ws.ppath_agenda__FollowSensorLosPath )\n",
    "ws.Copy( ws.ppath_step_agenda, ws.ppath_step_agenda__GeometricPath )\n",
    "ws.Copy( ws.propmat_clearsky_agenda, ws.propmat_clearsky_agenda__LookUpTable )"
   ]
  },
  {
   "cell_type": "code",
   "execution_count": 75,
   "id": "853d8bc6",
   "metadata": {},
   "outputs": [
    {
     "name": "stdout",
     "output_type": "stream",
     "text": [
      "ARTS Workspace Method: AtmRawRead\n"
     ]
    }
   ],
   "source": [
    "print(ws.AtmRawRead)"
   ]
  },
  {
   "cell_type": "code",
   "execution_count": 76,
   "id": "16489519",
   "metadata": {},
   "outputs": [],
   "source": [
    "ws.abs_speciesSet(\n",
    "    species=[\n",
    "        \"H2O, H2O-SelfContCKDMT252, H2O-ForeignContCKDMT252\",\n",
    "        \"CO2, CO2-CKDMT252\",\n",
    "        \"O3\",\n",
    "        \"CH4\",\n",
    "        \"N2O\"\n",
    "    ]\n",
    ")\n",
    "\n",
    "# Absorption look-up table\n",
    "#\n",
    "ws.VectorSet( ws.abs_t_pert, [] )\n",
    "ws.abs_speciesSet(abs_species=ws.abs_nls, species=[] )\n",
    "ws.VectorSet( ws.abs_nls_pert, [] )\n",
    "#\n",
    "ws.IndexSet( ws.abs_p_interp_order,   3 )\n",
    "ws.IndexSet( ws.abs_t_interp_order,   3 )\n",
    "ws.IndexSet( ws.abs_nls_interp_order, 3 )\n",
    "\n",
    "\n",
    "# Atmosphere, basics\n",
    "#\n",
    "ws.AtmosphereSet1D()\n",
    "ws.AtmRawRead( basename = \"/home/simonpf/src/arts-xml-data/planets/Earth/Fascod/tropical/tropical\")\n",
    "\n",
    "\n",
    "# Surface (if changed, also change in cfile_allsky for DISORT)\n",
    "#\n",
    "ws.MatrixSet( ws.z_surface, [0] )\n",
    "@arts_agenda\n",
    "def surface_rtprop_agenda(ws):\n",
    "    ws.InterpAtmFieldToPosition( out=ws.surface_skin_t, field=ws.t_field)\n",
    "    ws.surfaceBlackbody()\n",
    "ws.surface_rtprop_agenda = surface_rtprop_agenda\n",
    "\n",
    "# Frequency and wavenumber grids \n",
    "\n",
    "\n"
   ]
  },
  {
   "cell_type": "code",
   "execution_count": 79,
   "id": "13e32b2a",
   "metadata": {},
   "outputs": [],
   "source": [
    "from scipy.constants import c\n",
    "import numpy as np\n",
    "lambdas = np.logspace(-7, 0, 256)[::-1]\n",
    "f = c / lambdas\n",
    "\n",
    "ws.f_grid = f"
   ]
  },
  {
   "cell_type": "code",
   "execution_count": 80,
   "id": "e047eb6f",
   "metadata": {},
   "outputs": [],
   "source": [
    "# \n",
    "ws.stokes_dim = 1\n",
    "ws.sensor_pos = np.array([100e3])\n",
    "ws.sensor_los = np.array([180])\n",
    "ws.iy_unit = \"PlanckBT\"\n",
    "# \n",
    "ws.sensorOff()\n",
    "ws.jacobianOff()\n"
   ]
  },
  {
   "cell_type": "code",
   "execution_count": null,
   "id": "963fa05e",
   "metadata": {},
   "outputs": [],
   "source": []
  },
  {
   "cell_type": "code",
   "execution_count": 81,
   "id": "9c98f6a1",
   "metadata": {},
   "outputs": [],
   "source": [
    "ws.p_grid = np.logspace(np.log10(1013_00), np.log10(1), 41)\n",
    "ws.AtmFieldsCalc()"
   ]
  },
  {
   "cell_type": "code",
   "execution_count": 82,
   "id": "cd0e8730",
   "metadata": {},
   "outputs": [],
   "source": [
    "ws.cloudboxOff()"
   ]
  },
  {
   "cell_type": "code",
   "execution_count": 83,
   "id": "92ed8a16",
   "metadata": {},
   "outputs": [],
   "source": [
    "ws.propmat_clearsky_agenda_checkedCalc()\n",
    "ws.atmfields_checkedCalc()\n",
    "ws.atmgeom_checkedCalc()\n",
    "ws.cloudbox_checkedCalc()\n",
    "ws.sensor_checkedCalc()"
   ]
  },
  {
   "cell_type": "code",
   "execution_count": null,
   "id": "5b634396",
   "metadata": {},
   "outputs": [],
   "source": []
  },
  {
   "cell_type": "code",
   "execution_count": 84,
   "id": "e90b344f",
   "metadata": {},
   "outputs": [],
   "source": [
    "ws.Copy(ws.abs_xsec_agenda, ws.abs_xsec_agenda__noCIA)"
   ]
  },
  {
   "cell_type": "code",
   "execution_count": 85,
   "id": "47979efd",
   "metadata": {},
   "outputs": [],
   "source": [
    "ws.abs_xsec_agenda_checkedCalc()"
   ]
  },
  {
   "cell_type": "code",
   "execution_count": 86,
   "id": "4d8ea31b",
   "metadata": {},
   "outputs": [],
   "source": [
    "ws.abs_lookupSetup()\n",
    "ws.abs_lookupCalc()\n"
   ]
  },
  {
   "cell_type": "code",
   "execution_count": 89,
   "id": "cff72fec",
   "metadata": {},
   "outputs": [],
   "source": [
    "ws.yCalc()"
   ]
  },
  {
   "cell_type": "code",
   "execution_count": 94,
   "id": "3233359f",
   "metadata": {},
   "outputs": [
    {
     "data": {
      "text/plain": [
       "array([[100000.]])"
      ]
     },
     "execution_count": 94,
     "metadata": {},
     "output_type": "execute_result"
    }
   ],
   "source": [
    "ws.sensor_pos.value"
   ]
  },
  {
   "cell_type": "code",
   "execution_count": null,
   "id": "d9a5a152",
   "metadata": {},
   "outputs": [],
   "source": [
    "%ls /home/simonpf/src/arts-xml-data/fa"
   ]
  },
  {
   "cell_type": "code",
   "execution_count": null,
   "id": "eb4b7853",
   "metadata": {},
   "outputs": [],
   "source": [
    "Arts2{\n",
    "\n",
    "INCLUDE \"general/general.arts\"\n",
    "INCLUDE \"general/continua.arts\"\n",
    "INCLUDE \"general/agendas.arts\"\n",
    "INCLUDE \"general/planet_earth.arts\"\n",
    "\n",
    "# (standard) emission calculation\n",
    "Copy( iy_main_agenda, iy_main_agenda__Emission )\n",
    "\n",
    "# cosmic background radiation\n",
    "Copy( iy_space_agenda, iy_space_agenda__CosmicBackground )\n",
    "\n",
    "# standard surface agenda (i.e., make use of surface_rtprop_agenda)\n",
    "Copy( iy_surface_agenda, iy_surface_agenda__UseSurfaceRtprop )\n",
    "\n",
    "# sensor-only path\n",
    "Copy( ppath_agenda, ppath_agenda__FollowSensorLosPath )\n",
    "\n",
    "# no refraction\n",
    "Copy( ppath_step_agenda, ppath_step_agenda__GeometricPath )\n",
    "\n",
    "# absorption from LUT\n",
    "Copy( propmat_clearsky_agenda, propmat_clearsky_agenda__LookUpTable )\n",
    "\n",
    "\n",
    "# Read parameters\n",
    "#\n",
    "StringCreate( atm )\n",
    "StringCreate( tablename )\n",
    "NumericCreate( wn_start )\n",
    "NumericCreate( wn_end )\n",
    "NumericCreate( dwn )\n",
    "#\n",
    "ReadXML( atm, \"atm.xml\" )\n",
    "ReadXML( tablename, \"tablename.xml\" )\n",
    "ReadXML( wn_start, \"wn_start.xml\" )\n",
    "ReadXML( wn_end, \"wn_end.xml\" )\n",
    "ReadXML( dwn, \"dwn.xml\" )\n",
    "\n"
   ]
  },
  {
   "cell_type": "code",
   "execution_count": 97,
   "id": "c8afa515",
   "metadata": {},
   "outputs": [
    {
     "data": {
      "text/plain": [
       "ARTS Workspace Variable: y"
      ]
     },
     "execution_count": 97,
     "metadata": {},
     "output_type": "execute_result"
    }
   ],
   "source": []
  },
  {
   "cell_type": "code",
   "execution_count": null,
   "id": "33a9efa9",
   "metadata": {},
   "outputs": [],
   "source": []
  }
 ],
 "metadata": {
  "kernelspec": {
   "display_name": "Python 3 (ipykernel)",
   "language": "python",
   "name": "python3"
  },
  "language_info": {
   "codemirror_mode": {
    "name": "ipython",
    "version": 3
   },
   "file_extension": ".py",
   "mimetype": "text/x-python",
   "name": "python",
   "nbconvert_exporter": "python",
   "pygments_lexer": "ipython3",
   "version": "3.10.2"
  }
 },
 "nbformat": 4,
 "nbformat_minor": 5
}
