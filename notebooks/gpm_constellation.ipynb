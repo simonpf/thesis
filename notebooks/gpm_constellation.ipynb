{
 "cells": [
  {
   "cell_type": "markdown",
   "id": "0951683d",
   "metadata": {},
   "source": [
    "# GPM constellation"
   ]
  },
  {
   "cell_type": "code",
   "execution_count": 1,
   "id": "ab80a094",
   "metadata": {},
   "outputs": [],
   "source": [
    "%load_ext autoreload\n",
    "%autoreload 2\n",
    "from pathlib import Path\n",
    "\n",
    "import matplotlib.pyplot as plt\n",
    "import numpy as np\n",
    "import xarray as xr\n",
    "from datetime import datetime"
   ]
  },
  {
   "cell_type": "code",
   "execution_count": 2,
   "id": "3a4dd7b6",
   "metadata": {},
   "outputs": [],
   "source": [
    "start_date = datetime(2022, 9, 28, 10, 0)\n",
    "end_date = datetime(2022, 9, 28, 14, 0)"
   ]
  },
  {
   "cell_type": "code",
   "execution_count": 3,
   "id": "f649f289",
   "metadata": {},
   "outputs": [
    {
     "name": "stdout",
     "output_type": "stream",
     "text": [
      "Please enter your pansat user password:\n",
      "········\n"
     ]
    },
    {
     "data": {
      "text/plain": [
       "[PosixPath('/home/simonpf/data/gprof_nn/constellation/dpr/2A.GPM.DPR.V9-20211125.20220928-S093055-E110326.048766.V07A.HDF5'),\n",
       " PosixPath('/home/simonpf/data/gprof_nn/constellation/dpr/2A.GPM.DPR.V9-20211125.20220928-S110327-E123559.048767.V07A.HDF5'),\n",
       " PosixPath('/home/simonpf/data/gprof_nn/constellation/dpr/2A.GPM.DPR.V9-20211125.20220928-S123600-E140831.048768.V07A.HDF5')]"
      ]
     },
     "execution_count": 3,
     "metadata": {},
     "output_type": "execute_result"
    }
   ],
   "source": [
    "from datetime import datetime, timedelta\n",
    "from pansat.products.satellite.gpm import l2a_dpr\n",
    "l2a_dpr.download(start_date, end_date, \"/home/simonpf/data/gprof_nn/constellation/dpr\")"
   ]
  },
  {
   "cell_type": "code",
   "execution_count": 3,
   "id": "aca71b2b",
   "metadata": {},
   "outputs": [],
   "source": [
    "VARS = [\"longitude\", \"latitude\", \"surface_precip\", \"scan_time\"]\n",
    "\n",
    "def load_precip_data(path):\n",
    "    files = sorted(list(path.glob(\"*.nc\")))\n",
    "    data = [xr.open_dataset(filename)[VARS] for filename in files]\n",
    "    data = xr.concat(data, dim=\"scans\")\n",
    "    data.surface_precip.data = np.maximum(data.surface_precip.data, 1e-3)\n",
    "    return data\n",
    "\n",
    "def load_obs_data(product, path, subsample=None):\n",
    "    files = sorted(list(path.glob(\"*.HDF5\")))\n",
    "    if subsample is not None:\n",
    "        data = [product.open(filename) for filename in files]\n",
    "    else:\n",
    "        data = [product.open(filename)[{\"scans\": slice(0, None, subsample)}] for filename in files]\n",
    "    data = xr.concat(data, dim=\"scans\")\n",
    "    if \"latitude_s1\" in data:\n",
    "        data = data.rename({\n",
    "            \"latitude_s1\": \"latitude\",\n",
    "            \"longitude_s1\": \"longitude\"\n",
    "        })\n",
    "    return data\n"
   ]
  },
  {
   "cell_type": "code",
   "execution_count": 5,
   "id": "2eec977b",
   "metadata": {},
   "outputs": [],
   "source": [
    "from pansat.products.satellite.gpm import l2a_dpr\n",
    "from pansat.products.satellite.gpm import (\n",
    "    l1c_npp_atms,\n",
    "    l1c_metopc_mhs,\n",
    "    l1c_metopb_mhs,\n",
    "    l1c_gpm_gmi_r,\n",
    "    l1c_gcomw1,\n",
    "    l1c_noaa19_mhs,\n",
    "    l1c_noaa20_atms,\n",
    "    l1c_f17_ssmis,\n",
    "    l1c_f18_ssmis,\n",
    "    l1c_noaa20_atms\n",
    ")\n",
    "\n",
    "data_path = Path(\"/home/simonpf/data/gprof_nn/\")\n",
    "npp_data = load_precip_data(data_path / \"constellation\"/ \"npp\")\n",
    "metopb_data = load_precip_data(data_path / \"constellation\"/ \"metop_b\")\n",
    "metopc_data = load_precip_data(data_path / \"constellation\"/ \"metop_c\")\n",
    "noaa19_data = load_precip_data(data_path / \"constellation\" / \"noaa19\")\n",
    "gmi_data = load_precip_data(data_path / \"constellation\"/ \"gmi\")\n",
    "amsr2_data = load_precip_data(data_path / \"constellation\"/ \"amsr2\")\n",
    "f16_data = load_precip_data(data_path / \"constellation\"/ \"f16\")\n",
    "f17_data = load_precip_data(data_path / \"constellation\"/ \"f17\")\n",
    "f18_data = load_precip_data(data_path / \"constellation\"/ \"f18\")\n",
    "noaa20_data = load_precip_data(data_path / \"constellation\"/ \"noaa20\")\n",
    "\n",
    "data_path = Path(\"/home/simonpf/data/gprof_nn/\")\n",
    "npp_sat_data = load_obs_data(l1c_npp_atms, data_path / \"obs\"/ \"npp\")\n",
    "metopb_sat_data = load_obs_data(l1c_metopb_mhs, data_path / \"obs\"/ \"metop_b\")\n",
    "metopc_sat_data = load_obs_data(l1c_metopc_mhs, data_path / \"obs\"/ \"metop_c\")\n",
    "gmi_sat_data = load_obs_data(l1c_gpm_gmi_r, data_path / \"obs\"/ \"gmi\")\n",
    "amsr2_sat_data = load_obs_data(l1c_gcomw1, data_path / \"obs\"/ \"gcomw1\")\n",
    "noaa19_sat_data = load_obs_data(l1c_noaa19_mhs, data_path / \"obs\" / \"noaa19\")\n",
    "f16_sat_data = load_obs_data(l1c_f17_ssmis, data_path / \"obs\" / \"f16\")\n",
    "f17_sat_data = load_obs_data(l1c_f17_ssmis, data_path / \"obs\" / \"f17\")\n",
    "f18_sat_data = load_obs_data(l1c_f18_ssmis, data_path / \"obs\" / \"f18\")\n",
    "noaa20_sat_data = load_obs_data(l1c_noaa20_atms, data_path / \"obs\" / \"noaa20\")\n",
    "#dpr_sat_data = load_obs_data(l2a_dpr, data_path / \"constellation\" /  \"dpr\", subsample=10)"
   ]
  },
  {
   "cell_type": "code",
   "execution_count": 13,
   "id": "75b00205",
   "metadata": {},
   "outputs": [],
   "source": [
    "from satviewer import create_texture_area\n",
    "area = create_texture_area(360 / 2700)"
   ]
  },
  {
   "cell_type": "markdown",
   "id": "986808ce",
   "metadata": {},
   "source": [
    "## Surface"
   ]
  },
  {
   "cell_type": "code",
   "execution_count": 12,
   "id": "c47b6825",
   "metadata": {},
   "outputs": [],
   "source": [
    "import pyvista as pv\n",
    "from PIL import Image\n",
    "from pyresample.kd_tree import resample_nearest\n",
    "from satviewer import create_texture_area\n",
    "\n",
    "background = np.array(Image.open(\"/home/simonpf/data/natural_earth/blue_marble_sep.jpg\"))\n",
    "background = background[::2, ::2]\n",
    "earth_sfc = pv.numpy_to_texture(background)"
   ]
  },
  {
   "cell_type": "code",
   "execution_count": 12,
   "id": "b6187847",
   "metadata": {},
   "outputs": [
    {
     "name": "stderr",
     "output_type": "stream",
     "text": [
      "/tmp/ipykernel_3222824/433732433.py:8: MatplotlibDeprecationWarning: You are modifying the state of a globally registered colormap. This has been deprecated since 3.3 and in 3.6, you will not be able to modify a registered colormap in-place. To remove this warning, you can make a copy of the colormap first. cmap = mpl.cm.get_cmap(\"mako_r\").copy()\n",
      "  cmap.set_bad(np.array([1.0, 0.0, 0.0, 0.0]))\n"
     ]
    }
   ],
   "source": [
    "from matplotlib.colors import LogNorm, Normalize\n",
    "from matplotlib.cm import ScalarMappable\n",
    "from matplotlib.cm import get_cmap\n",
    "import seaborn as sns\n",
    "sns.reset_orig()\n",
    "norm = LogNorm(1e-1, 5e1)\n",
    "cmap = get_cmap(\"mako_r\")\n",
    "cmap.set_bad(np.array([1.0, 0.0, 0.0, 0.0]))\n",
    "mappable = ScalarMappable(norm=norm, cmap=cmap)\n",
    "tb_mappable = ScalarMappable(norm=Normalize(150, 300), cmap=cmap)"
   ]
  },
  {
   "cell_type": "code",
   "execution_count": 13,
   "id": "770d710d",
   "metadata": {},
   "outputs": [],
   "source": [
    "gmi_sat_data[\"tbs_89\"] = ((\"scans\", \"pixels\"), gmi_sat_data[\"tbs_s1\"].data[:, :, 7])\n",
    "gmi_data[\"tbs_89\"] = ((\"scans\", \"pixels\"), gmi_sat_data[\"tbs_s1\"].data[:, :, 7])"
   ]
  },
  {
   "cell_type": "code",
   "execution_count": 14,
   "id": "d825d454",
   "metadata": {},
   "outputs": [],
   "source": [
    "from satviewer import render_swath_surface, render_swath\n",
    "import pyvista as pv\n",
    "\n",
    "surf = render_swath_surface(\n",
    "    gmi_sat_data,\n",
    "    \"tbs_89\",\n",
    "    (...),\n",
    "    np.datetime64(\"2022-09-28T00:00:00\"),\n",
    "    mappable=mappable,\n",
    "    use_elevation=False\n",
    ")\n",
    "txt = render_swath(\n",
    "    gmi_data,\n",
    "    \"surface_precip\",\n",
    "    (...),\n",
    "    np.datetime64(\"2022-09-28T00:00:00\"),\n",
    "    mappable=mappable\n",
    ")\n",
    "t = pv.numpy_to_texture(np.array(txt))\n",
    "surf.textures[\"precip\"] = t"
   ]
  },
  {
   "cell_type": "code",
   "execution_count": 15,
   "id": "23c5544e",
   "metadata": {},
   "outputs": [
    {
     "data": {
      "application/vnd.jupyter.widget-view+json": {
       "model_id": "5948f621a1d04ceb9407e3f08aa58cbc",
       "version_major": 2,
       "version_minor": 0
      },
      "text/plain": [
       "ViewInteractiveWidget(height=768, layout=Layout(height='auto', width='100%'), width=1024)"
      ]
     },
     "metadata": {},
     "output_type": "display_data"
    }
   ],
   "source": [
    "surf.plot(opacity=1.0)"
   ]
  },
  {
   "cell_type": "markdown",
   "id": "08c41381",
   "metadata": {},
   "source": [
    "## GMI + DPR"
   ]
  },
  {
   "cell_type": "code",
   "execution_count": 16,
   "id": "d47f2fdb",
   "metadata": {},
   "outputs": [
    {
     "name": "stderr",
     "output_type": "stream",
     "text": [
      "/tmp/ipykernel_3222824/2074671630.py:8: MatplotlibDeprecationWarning: You are modifying the state of a globally registered colormap. This has been deprecated since 3.3 and in 3.6, you will not be able to modify a registered colormap in-place. To remove this warning, you can make a copy of the colormap first. cmap = mpl.cm.get_cmap(\"mako_r\").copy()\n",
      "  cmap.set_bad(np.array([1.0, 0.0, 0.0, 0.0]))\n"
     ]
    }
   ],
   "source": [
    "from matplotlib.colors import LogNorm, Normalize\n",
    "from matplotlib.cm import ScalarMappable\n",
    "from matplotlib.cm import get_cmap\n",
    "import seaborn as sns\n",
    "sns.reset_orig()\n",
    "\n",
    "cmap = get_cmap(\"mako_r\")\n",
    "cmap.set_bad(np.array([1.0, 0.0, 0.0, 0.0]))\n",
    "tb_mappable = ScalarMappable(norm=Normalize(150, 300), cmap=cmap)"
   ]
  },
  {
   "cell_type": "code",
   "execution_count": 14,
   "id": "dc63e99d",
   "metadata": {},
   "outputs": [],
   "source": [
    "from satviewer import create_earth\n",
    "earth = create_earth(area)\n",
    "earth.textures[\"surface\"] = earth_sfc"
   ]
  },
  {
   "cell_type": "code",
   "execution_count": 18,
   "id": "9eef2e9b",
   "metadata": {},
   "outputs": [],
   "source": [
    "time = np.datetime64(\"2022-09-28T10:30:00\"),"
   ]
  },
  {
   "cell_type": "code",
   "execution_count": 20,
   "id": "f0ba8363",
   "metadata": {},
   "outputs": [],
   "source": [
    "dpr_sat_data[\"latitude\"] = dpr_sat_data[\"latitude_hs\"]\n",
    "dpr_sat_data[\"longitude\"] = dpr_sat_data[\"longitude_hs\"]"
   ]
  },
  {
   "cell_type": "code",
   "execution_count": 21,
   "id": "dbf3566f",
   "metadata": {},
   "outputs": [
    {
     "name": "stdout",
     "output_type": "stream",
     "text": [
      "6793766.0 2232793.2\n",
      "72146\n"
     ]
    }
   ],
   "source": [
    "from satviewer import render_radar_swath\n",
    "pv.set_plot_theme(\"document\")\n",
    "plot = pv.Plotter()\n",
    "render_radar_swath(plot, dpr_sat_data, time)"
   ]
  },
  {
   "cell_type": "code",
   "execution_count": 22,
   "id": "75a7a86c",
   "metadata": {},
   "outputs": [
    {
     "data": {
      "application/vnd.jupyter.widget-view+json": {
       "model_id": "0076d13b31b34ffa964a59b4595adce2",
       "version_major": 2,
       "version_minor": 0
      },
      "text/plain": [
       "ViewInteractiveWidget(height=768, layout=Layout(height='auto', width='100%'), width=1024)"
      ]
     },
     "metadata": {},
     "output_type": "display_data"
    }
   ],
   "source": [
    "plot.show()"
   ]
  },
  {
   "cell_type": "code",
   "execution_count": 34,
   "id": "1dcb3efe",
   "metadata": {},
   "outputs": [],
   "source": [
    "from satviewer import R\n",
    "from satviewer.satellites import LEOSat\n",
    "gmi = LEOSat(\"GPM\", gmi_sat_data)\n",
    "#npp = LEOSat(\"Suomi NPP\", npp_sat_data)\n",
    "#f16 = LEOSat(\"F16\", f16_sat_data)\n",
    "#f17 = LEOSat(\"F17\", f17_sat_data)\n",
    "#f18 = LEOSat(\"F18\", f18_sat_data)\n",
    "#metopb = LEOSat(\"Metop-B\", metopb_sat_data)\n",
    "#metopc = LEOSat(\"Metop-C\", metopc_sat_data)\n",
    "#noaa19 = LEOSat(\"NOAA 19\", noaa19_sat_data)\n",
    "#noaa20 = LEOSat(\"NOAA 20\", noaa20_sat_data)\n",
    "#amsr2 = LEOSat(\"AMSR 2\", amsr2_sat_data)\n",
    "\n",
    "leo_sats = [\n",
    "    (gmi, gmi_data),\n",
    "    #(amsr2, amsr2_data),\n",
    "    #(metopb, metopb_data),\n",
    "    #(metopc, metopc_data),\n",
    "    #(noaa19, noaa19_data),\n",
    "    #(f16, f16_data),\n",
    "    #(f17, f17_data),\n",
    "    #(f18, f18_data),\n",
    "    #(noaa20, noaa20_data),\n",
    "    #(npp, npp_data)\n",
    "]"
   ]
  },
  {
   "cell_type": "code",
   "execution_count": 68,
   "id": "f62c11ba",
   "metadata": {},
   "outputs": [
    {
     "name": "stdout",
     "output_type": "stream",
     "text": [
      "4594522.0 -6548379.0\n",
      "244417\n"
     ]
    }
   ],
   "source": [
    "import pyvista as pv\n",
    "pv.set_plot_theme(\"document\")\n",
    "plot = pv.Plotter(\n",
    "    multi_samples=32,\n",
    "    polygon_smoothing=True,\n",
    "    line_smoothing=True,\n",
    "    window_size=(1024, 1024)\n",
    ")\n",
    "plot.add_mesh(earth)\n",
    "time = np.datetime64(\"2022-09-28T13:10:00\")\n",
    "for sat, data in leo_sats:\n",
    "    sat.add(plot, time)\n",
    "render_radar_swath(plot, dpr_sat_data, time)\n"
   ]
  },
  {
   "cell_type": "code",
   "execution_count": 69,
   "id": "66675bba",
   "metadata": {},
   "outputs": [],
   "source": [
    "from satviewer import render_swath_surface, render_swath\n",
    "from pansat.time import to_datetime\n",
    "import pyvista as pv\n",
    "\n",
    "\n",
    "def plot_time(plot, time):\n",
    "    plot.clear()\n",
    "    plot.add_mesh(earth)\n",
    "    \n",
    "    x = np.zeros((3, 2))\n",
    "    y = np.zeros((3, 2))\n",
    "    #dummy = pv.StructuredGrid(x, y, x + y )\n",
    "    #dummy[\"Surface precip [mm/h]\"] = [1e-2, 2e1]\n",
    "    #plot.add_mesh(dummy, scalars=\"Surface precip [mm/h]\", cmap=\"mako_r\", log_scale=True)\n",
    "    \n",
    "    for sat, precip_data in leo_sats:\n",
    "        sat.add(plot, time)\n",
    "        \n",
    "        surf = render_swath_surface(\n",
    "            precip_data,\n",
    "            \"tbs_89\",\n",
    "            (...),\n",
    "            time,\n",
    "            mappable=tb_mappable,\n",
    "            use_elevation=False\n",
    "        )\n",
    "        txt = render_swath(\n",
    "            precip_data,\n",
    "            \"tbs_89\",\n",
    "            (...),\n",
    "            time,\n",
    "            mappable=tb_mappable\n",
    "        )\n",
    "        txt = pv.numpy_to_texture(np.array(txt))\n",
    "        surf.textures[\"precip\"] = txt\n",
    "        plot.add_mesh(surf)\n",
    "        \n",
    "        time_str = to_datetime(time).strftime(\"%y-%m-%d %H:%M UTC\")\n",
    "        plot.add_title(time_str, font_size=15)\n",
    "    render_radar_swath(plot, dpr_sat_data, time)\n"
   ]
  },
  {
   "cell_type": "code",
   "execution_count": 30,
   "id": "cb3d42b7",
   "metadata": {},
   "outputs": [],
   "source": [
    "from satviewer.satellites import R\n",
    "def set_camera(camera, lon, lat, z):\n",
    "    x = z * np.cos(np.deg2rad(lat)) * np.cos(np.deg2rad(lon))\n",
    "    y = z * np.cos(np.deg2rad(lat)) * np.sin(np.deg2rad(lon))\n",
    "    z = z * np.sin(np.deg2rad(lat))\n",
    "    camera.position = (x, y, z)\n",
    "    "
   ]
  },
  {
   "cell_type": "code",
   "execution_count": 71,
   "id": "dac1c693",
   "metadata": {},
   "outputs": [],
   "source": [
    "set_camera(plot.camera, 10, 20, 5.4 * R)"
   ]
  },
  {
   "cell_type": "code",
   "execution_count": 72,
   "id": "b094b7a5",
   "metadata": {},
   "outputs": [
    {
     "name": "stdout",
     "output_type": "stream",
     "text": [
      "4594522.0 -6548379.0\n",
      "244417\n"
     ]
    }
   ],
   "source": [
    "plot_time(plot, time)"
   ]
  },
  {
   "cell_type": "code",
   "execution_count": 73,
   "id": "56794bd8",
   "metadata": {},
   "outputs": [
    {
     "data": {
      "text/plain": [
       "numpy.datetime64('2022-09-28T13:10:00')"
      ]
     },
     "execution_count": 73,
     "metadata": {},
     "output_type": "execute_result"
    }
   ],
   "source": [
    "time"
   ]
  },
  {
   "cell_type": "code",
   "execution_count": 74,
   "id": "de3fc887",
   "metadata": {},
   "outputs": [
    {
     "data": {
      "application/vnd.jupyter.widget-view+json": {
       "model_id": "60b56973180d4e13a311448f292c998a",
       "version_major": 2,
       "version_minor": 0
      },
      "text/plain": [
       "ViewInteractiveWidget(height=1024, layout=Layout(height='auto', width='100%'), width=1024)"
      ]
     },
     "metadata": {},
     "output_type": "display_data"
    }
   ],
   "source": [
    "plot.show(auto_close=False)"
   ]
  },
  {
   "cell_type": "markdown",
   "id": "1eafff86",
   "metadata": {},
   "source": [
    "## Constellation"
   ]
  },
  {
   "cell_type": "code",
   "execution_count": 25,
   "id": "776ca42c",
   "metadata": {},
   "outputs": [
    {
     "name": "stderr",
     "output_type": "stream",
     "text": [
      "/tmp/ipykernel_3224219/4164900508.py:8: MatplotlibDeprecationWarning: You are modifying the state of a globally registered colormap. This has been deprecated since 3.3 and in 3.6, you will not be able to modify a registered colormap in-place. To remove this warning, you can make a copy of the colormap first. cmap = mpl.cm.get_cmap(\"mako_r\").copy()\n",
      "  cmap.set_bad(np.array([1.0, 0.0, 0.0, 0.0]))\n"
     ]
    }
   ],
   "source": [
    "from matplotlib.colors import LogNorm, Normalize\n",
    "from matplotlib.cm import ScalarMappable\n",
    "from matplotlib.cm import get_cmap\n",
    "import seaborn as sns\n",
    "sns.reset_orig()\n",
    "\n",
    "cmap = get_cmap(\"mako_r\")\n",
    "cmap.set_bad(np.array([1.0, 0.0, 0.0, 0.0]))\n",
    "mappable = ScalarMappable(norm=LogNorm(1e-1, 1e2), cmap=cmap)"
   ]
  },
  {
   "cell_type": "code",
   "execution_count": 26,
   "id": "9c929fff",
   "metadata": {},
   "outputs": [],
   "source": [
    "from satviewer import R\n",
    "from satviewer.satellites import LEOSat\n",
    "gmi = LEOSat(\"GPM\", gmi_sat_data)\n",
    "npp = LEOSat(\"Suomi NPP\", npp_sat_data)\n",
    "f16 = LEOSat(\"F16\", f16_sat_data)\n",
    "f17 = LEOSat(\"F17\", f17_sat_data)\n",
    "f18 = LEOSat(\"F18\", f18_sat_data)\n",
    "metopb = LEOSat(\"Metop-B\", metopb_sat_data)\n",
    "metopc = LEOSat(\"Metop-C\", metopc_sat_data)\n",
    "noaa19 = LEOSat(\"NOAA 19\", noaa19_sat_data)\n",
    "noaa20 = LEOSat(\"NOAA 20\", noaa20_sat_data)\n",
    "amsr2 = LEOSat(\"AMSR 2\", amsr2_sat_data)\n",
    "\n",
    "leo_sats = [\n",
    "    (gmi, gmi_data),\n",
    "    (amsr2, amsr2_data),\n",
    "    (metopb, metopb_data),\n",
    "    (metopc, metopc_data),\n",
    "    (noaa19, noaa19_data),\n",
    "    (f16, f16_data),\n",
    "    (f17, f17_data),\n",
    "    (f18, f18_data),\n",
    "    (noaa20, noaa20_data),\n",
    "    (npp, npp_data)\n",
    "]"
   ]
  },
  {
   "cell_type": "code",
   "execution_count": 27,
   "id": "8580de3b",
   "metadata": {},
   "outputs": [],
   "source": [
    "from satviewer import render_swath_surface, render_swath\n",
    "from pansat.time import to_datetime\n",
    "import pyvista as pv\n",
    "\n",
    "\n",
    "def plot_time(plot, time):\n",
    "    plot.clear()\n",
    "    plot.add_mesh(earth)\n",
    "    \n",
    "    x = np.zeros((3, 2))\n",
    "    y = np.zeros((3, 2))\n",
    "    dummy = pv.StructuredGrid(x, y, x + y )\n",
    "    dummy[\"Surface precip [mm/h]\"] = [1e-2, 2e1]\n",
    "    plot.add_mesh(dummy, scalars=\"Surface precip [mm/h]\", cmap=\"mako_r\", log_scale=True)\n",
    "    \n",
    "    for sat, precip_data in leo_sats:\n",
    "        sat.add(plot, time)\n",
    "        \n",
    "        surf = render_swath_surface(\n",
    "            precip_data,\n",
    "            \"surface_precip\",\n",
    "            (...),\n",
    "            time,\n",
    "            mappable=mappable,\n",
    "            use_elevation=False\n",
    "        )\n",
    "        txt = render_swath(\n",
    "            precip_data,\n",
    "            \"surface_precip\",\n",
    "            (...),\n",
    "            time,\n",
    "            mappable=mappable\n",
    "        )\n",
    "        txt = pv.numpy_to_texture(np.array(txt))\n",
    "        surf.textures[\"precip\"] = txt\n",
    "        plot.add_mesh(surf)\n",
    "        \n",
    "        time_str = to_datetime(time).strftime(\"%y-%m-%d %H:%M UTC\")\n",
    "        plot.add_title(time_str, font_size=15)"
   ]
  },
  {
   "cell_type": "code",
   "execution_count": 28,
   "id": "8cb2b7bc",
   "metadata": {},
   "outputs": [],
   "source": [
    "import pyvista as pv\n",
    "pv.set_plot_theme(\"document\")\n",
    "plot = pv.Plotter(\n",
    "    multi_samples=32,\n",
    "    polygon_smoothing=True,\n",
    "    line_smoothing=True,\n",
    "    window_size=(1024, 1024)\n",
    ")\n",
    "plot.add_mesh(earth)\n",
    "time = np.datetime64(\"2022-09-28T13:10:00\")\n",
    "for sat, data in leo_sats:\n",
    "    sat.add(plot, time)"
   ]
  },
  {
   "cell_type": "code",
   "execution_count": 21,
   "id": "b2974bb9",
   "metadata": {},
   "outputs": [],
   "source": [
    "times = np.arange(\n",
    "    np.datetime64(\"2022-09-28T12:40:00\"),\n",
    "    np.datetime64(\"2022-09-28T13:30:00\"),\n",
    "    np.timedelta64(1 * 10, \"s\"),\n",
    ")"
   ]
  },
  {
   "cell_type": "code",
   "execution_count": 33,
   "id": "df3835aa",
   "metadata": {},
   "outputs": [],
   "source": [
    "plot.open_movie(\"gpm_constellation.mp4\")"
   ]
  },
  {
   "cell_type": "code",
   "execution_count": 34,
   "id": "e6ba6ab9",
   "metadata": {},
   "outputs": [],
   "source": [
    "set_camera(plot.camera, 10, 20, 5.4 * R)"
   ]
  },
  {
   "cell_type": "code",
   "execution_count": 35,
   "id": "864c8030",
   "metadata": {},
   "outputs": [],
   "source": [
    "for time in times:\n",
    "    plot_time(plot, time)\n",
    "    plot.write_frame()"
   ]
  },
  {
   "cell_type": "code",
   "execution_count": 36,
   "id": "bab9a14a",
   "metadata": {},
   "outputs": [],
   "source": [
    "plot.close()"
   ]
  },
  {
   "cell_type": "code",
   "execution_count": 83,
   "id": "a683f040",
   "metadata": {},
   "outputs": [
    {
     "data": {
      "text/plain": [
       "pyvista_ndarray([[ 1103802.40617544, -2097378.40660681,\n",
       "                  -6818607.60589666]])"
      ]
     },
     "execution_count": 83,
     "metadata": {},
     "output_type": "execute_result"
    }
   ],
   "source": [
    "metopb.sat.points"
   ]
  },
  {
   "cell_type": "code",
   "execution_count": 70,
   "id": "ff383ea2",
   "metadata": {},
   "outputs": [],
   "source": [
    "plot.update_coordinates?"
   ]
  },
  {
   "cell_type": "code",
   "execution_count": 54,
   "id": "6f3f2360",
   "metadata": {},
   "outputs": [
    {
     "data": {
      "text/plain": [
       "datetime.datetime(2022, 4, 11, 15, 20, 20)"
      ]
     },
     "execution_count": 54,
     "metadata": {},
     "output_type": "execute_result"
    }
   ],
   "source": [
    "goes.filename_to_date(files[0].name)"
   ]
  }
 ],
 "metadata": {
  "kernelspec": {
   "display_name": "Python 3 (ipykernel)",
   "language": "python",
   "name": "python3"
  },
  "language_info": {
   "codemirror_mode": {
    "name": "ipython",
    "version": 3
   },
   "file_extension": ".py",
   "mimetype": "text/x-python",
   "name": "python",
   "nbconvert_exporter": "python",
   "pygments_lexer": "ipython3",
   "version": "3.9.7"
  }
 },
 "nbformat": 4,
 "nbformat_minor": 5
}
