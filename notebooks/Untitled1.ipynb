{
 "cells": [
  {
   "cell_type": "code",
   "execution_count": 1,
   "id": "33604e86",
   "metadata": {},
   "outputs": [
    {
     "ename": "LoadError",
     "evalue": "ArgumentError: Package pansat not found in current path:\n- Run `import Pkg; Pkg.add(\"pansat\")` to install the pansat package.\n",
     "output_type": "error",
     "traceback": [
      "ArgumentError: Package pansat not found in current path:\n- Run `import Pkg; Pkg.add(\"pansat\")` to install the pansat package.\n",
      "",
      "Stacktrace:",
      " [1] require(into::Module, mod::Symbol)",
      "   @ Base ./loading.jl:967",
      " [2] eval",
      "   @ ./boot.jl:373 [inlined]",
      " [3] include_string(mapexpr::typeof(REPL.softscope), mod::Module, code::String, filename::String)",
      "   @ Base ./loading.jl:1196"
     ]
    }
   ],
   "source": [
    "import pansat\n"
   ]
  },
  {
   "cell_type": "code",
   "execution_count": 1,
   "id": "b6e0083e",
   "metadata": {},
   "outputs": [
    {
     "name": "stderr",
     "output_type": "stream",
     "text": [
      "\u001b[32m\u001b[1m    Updating\u001b[22m\u001b[39m registry at `~/.julia/registries/General`\n",
      "\u001b[32m\u001b[1m    Updating\u001b[22m\u001b[39m git-repo `https://github.com/JuliaRegistries/General.git`\n",
      "\u001b[32m\u001b[1m   Resolving\u001b[22m\u001b[39m package versions...\n",
      "\u001b[32m\u001b[1m  No Changes\u001b[22m\u001b[39m to `~/.julia/environments/v1.7/Project.toml`\n",
      "\u001b[32m\u001b[1m  No Changes\u001b[22m\u001b[39m to `~/.julia/environments/v1.7/Manifest.toml`\n"
     ]
    }
   ],
   "source": [
    "] add HITRAN"
   ]
  },
  {
   "cell_type": "code",
   "execution_count": 3,
   "id": "a2f1020d",
   "metadata": {},
   "outputs": [],
   "source": [
    "using HITRAN"
   ]
  },
  {
   "cell_type": "code",
   "execution_count": 14,
   "id": "e300fad4",
   "metadata": {},
   "outputs": [
    {
     "data": {
      "text/plain": [
       "0.03335640951981521"
      ]
     },
     "execution_count": 14,
     "metadata": {},
     "output_type": "execute_result"
    }
   ],
   "source": [
    "w_0 = wavelength_to_wavenumber(100e-9)\n",
    "w_1 = frequency_to_wavenumber(1e9)"
   ]
  },
  {
   "cell_type": "code",
   "execution_count": 30,
   "id": "fbf8197d",
   "metadata": {},
   "outputs": [],
   "source": [
    "fetch!(\"StdAtm\", iso_id([\"N2\", \"O2\", \"CO2\", \"H2O\", \"CH4\", \"O3\"]), w_0, w_1, [:standard, :ht_self]);"
   ]
  },
  {
   "cell_type": "code",
   "execution_count": 31,
   "id": "2385422c",
   "metadata": {},
   "outputs": [
    {
     "ename": "LoadError",
     "evalue": "MethodError: \u001b[0mCannot `convert` an object of type \u001b[92mString\u001b[39m\u001b[0m to an object of type \u001b[91mFloat64\u001b[39m\n\u001b[0mClosest candidates are:\n\u001b[0m  convert(::Type{T}, \u001b[91m::Static.StaticFloat64{N}\u001b[39m) where {N, T<:AbstractFloat} at ~/.julia/packages/Static/pkxBE/src/float.jl:26\n\u001b[0m  convert(::Type{T}, \u001b[91m::Base.TwicePrecision\u001b[39m) where T<:Number at ~/src/julia-1.7.2/share/julia/base/twiceprecision.jl:262\n\u001b[0m  convert(::Type{T}, \u001b[91m::AbstractChar\u001b[39m) where T<:Number at ~/src/julia-1.7.2/share/julia/base/char.jl:185\n\u001b[0m  ...",
     "output_type": "error",
     "traceback": [
      "MethodError: \u001b[0mCannot `convert` an object of type \u001b[92mString\u001b[39m\u001b[0m to an object of type \u001b[91mFloat64\u001b[39m\n\u001b[0mClosest candidates are:\n\u001b[0m  convert(::Type{T}, \u001b[91m::Static.StaticFloat64{N}\u001b[39m) where {N, T<:AbstractFloat} at ~/.julia/packages/Static/pkxBE/src/float.jl:26\n\u001b[0m  convert(::Type{T}, \u001b[91m::Base.TwicePrecision\u001b[39m) where T<:Number at ~/src/julia-1.7.2/share/julia/base/twiceprecision.jl:262\n\u001b[0m  convert(::Type{T}, \u001b[91m::AbstractChar\u001b[39m) where T<:Number at ~/src/julia-1.7.2/share/julia/base/char.jl:185\n\u001b[0m  ...",
      "",
      "Stacktrace:",
      " [1] parse_kwargs(tables::Vector{String}; kwargs::Base.Pairs{Symbol, Dict{Tuple{Int64, Int64}, Float64}, Tuple{Symbol}, NamedTuple{(:components,), Tuple{Dict{Tuple{Int64, Int64}, Float64}}}})",
      "   @ HITRAN ~/.julia/packages/HITRAN/fRuff/src/profiles.jl:163",
      " [2] α(tables::Vector{String}, profile::Symbol; kwargs::Base.Pairs{Symbol, Dict{Tuple{Int64, Int64}, Float64}, Tuple{Symbol}, NamedTuple{(:components,), Tuple{Dict{Tuple{Int64, Int64}, Float64}}}})",
      "   @ HITRAN ~/.julia/packages/HITRAN/fRuff/src/profiles.jl:210",
      " [3] top-level scope",
      "   @ In[31]:1",
      " [4] eval",
      "   @ ./boot.jl:373 [inlined]",
      " [5] include_string(mapexpr::typeof(REPL.softscope), mod::Module, code::String, filename::String)",
      "   @ Base ./loading.jl:1196"
     ]
    }
   ],
   "source": [
    "wavenumbers, absorption_coefficient = α(\n",
    "           [\"StdAtm\"];\n",
    "           components=default_environments[:dry_air]\n",
    "       )"
   ]
  },
  {
   "cell_type": "code",
   "execution_count": 24,
   "id": "74309c22",
   "metadata": {},
   "outputs": [
    {
     "data": {
      "text/plain": [
       "1000-element Vector{Float64}:\n",
       " 99900.03335640952\n",
       " 99800.03335640952\n",
       " 99700.03335640952\n",
       " 99600.03335640952\n",
       " 99500.03335640952\n",
       " 99400.03335640952\n",
       " 99300.03335640952\n",
       " 99200.03335640952\n",
       " 99100.03335640952\n",
       " 99000.03335640952\n",
       " 98900.03335640952\n",
       " 98800.03335640952\n",
       " 98700.03335640952\n",
       "     ⋮\n",
       "  1100.03335640952\n",
       "  1000.0333564095198\n",
       "   900.0333564095198\n",
       "   800.0333564095198\n",
       "   700.0333564095198\n",
       "   600.0333564095198\n",
       "   500.0333564095198\n",
       "   400.0333564095198\n",
       "   300.0333564095198\n",
       "   200.03335640951983\n",
       "   100.03335640951981\n",
       "     0.03335640951981521"
      ]
     },
     "execution_count": 24,
     "metadata": {},
     "output_type": "execute_result"
    }
   ],
   "source": [
    "v = reverse(collect(w_1:100:w_0))"
   ]
  },
  {
   "cell_type": "code",
   "execution_count": 10,
   "id": "b7fa8492",
   "metadata": {},
   "outputs": [
    {
     "data": {
      "text/plain": [
       "0.03335640951981521"
      ]
     },
     "execution_count": 10,
     "metadata": {},
     "output_type": "execute_result"
    }
   ],
   "source": [
    "w_1"
   ]
  },
  {
   "cell_type": "code",
   "execution_count": 27,
   "id": "3bf02a7c",
   "metadata": {},
   "outputs": [
    {
     "ename": "LoadError",
     "evalue": "MethodError: \u001b[0mCannot `convert` an object of type \u001b[92mString\u001b[39m\u001b[0m to an object of type \u001b[91mFloat64\u001b[39m\n\u001b[0mClosest candidates are:\n\u001b[0m  convert(::Type{T}, \u001b[91m::Static.StaticFloat64{N}\u001b[39m) where {N, T<:AbstractFloat} at ~/.julia/packages/Static/pkxBE/src/float.jl:26\n\u001b[0m  convert(::Type{T}, \u001b[91m::Base.TwicePrecision\u001b[39m) where T<:Number at ~/src/julia-1.7.2/share/julia/base/twiceprecision.jl:262\n\u001b[0m  convert(::Type{T}, \u001b[91m::AbstractChar\u001b[39m) where T<:Number at ~/src/julia-1.7.2/share/julia/base/char.jl:185\n\u001b[0m  ...",
     "output_type": "error",
     "traceback": [
      "MethodError: \u001b[0mCannot `convert` an object of type \u001b[92mString\u001b[39m\u001b[0m to an object of type \u001b[91mFloat64\u001b[39m\n\u001b[0mClosest candidates are:\n\u001b[0m  convert(::Type{T}, \u001b[91m::Static.StaticFloat64{N}\u001b[39m) where {N, T<:AbstractFloat} at ~/.julia/packages/Static/pkxBE/src/float.jl:26\n\u001b[0m  convert(::Type{T}, \u001b[91m::Base.TwicePrecision\u001b[39m) where T<:Number at ~/src/julia-1.7.2/share/julia/base/twiceprecision.jl:262\n\u001b[0m  convert(::Type{T}, \u001b[91m::AbstractChar\u001b[39m) where T<:Number at ~/src/julia-1.7.2/share/julia/base/char.jl:185\n\u001b[0m  ...",
      "",
      "Stacktrace:",
      " [1] parse_kwargs(tables::Vector{String}; kwargs::Base.Pairs{Symbol, Union{}, Tuple{}, NamedTuple{(), Tuple{}}})",
      "   @ HITRAN ~/.julia/packages/HITRAN/fRuff/src/profiles.jl:163",
      " [2] parse_kwargs",
      "   @ ~/.julia/packages/HITRAN/fRuff/src/profiles.jl:144 [inlined]",
      " [3] α(tables::Vector{String}, profile::Symbol; kwargs::Base.Pairs{Symbol, Union{}, Tuple{}, NamedTuple{(), Tuple{}}})",
      "   @ HITRAN ~/.julia/packages/HITRAN/fRuff/src/profiles.jl:210",
      " [4] α (repeats 2 times)",
      "   @ ~/.julia/packages/HITRAN/fRuff/src/profiles.jl:210 [inlined]",
      " [5] top-level scope",
      "   @ In[27]:1",
      " [6] eval",
      "   @ ./boot.jl:373 [inlined]",
      " [7] include_string(mapexpr::typeof(REPL.softscope), mod::Module, code::String, filename::String)",
      "   @ Base ./loading.jl:1196"
     ]
    }
   ],
   "source": [
    "wavenumbers, absorption_coefficient = α(\n",
    "           [\"StdAtm\"];\n",
    "           #components=default_environments[:dry_air]\n",
    "       )"
   ]
  },
  {
   "cell_type": "code",
   "execution_count": 17,
   "id": "39625fbc",
   "metadata": {},
   "outputs": [
    {
     "name": "stderr",
     "output_type": "stream",
     "text": [
      "┌ Error: curl_easy_setopt: 48\n",
      "└ @ Downloads.Curl /buildworker/worker/package_linux64/build/usr/share/julia/stdlib/v1.7/Downloads/src/Curl/utils.jl:36\n",
      "┌ Error: curl_easy_setopt: 48\n",
      "└ @ Downloads.Curl /buildworker/worker/package_linux64/build/usr/share/julia/stdlib/v1.7/Downloads/src/Curl/utils.jl:36\n",
      "┌ Error: curl_easy_setopt: 48\n",
      "└ @ Downloads.Curl /buildworker/worker/package_linux64/build/usr/share/julia/stdlib/v1.7/Downloads/src/Curl/utils.jl:36\n",
      "┌ Warning: thread = 1 warning: only found 10 / 43 columns around data row: 1. Filling remaining columns with `missing`\n",
      "└ @ CSV /home/simonpf/.julia/packages/CSV/9LsxT/src/file.jl:634\n"
     ]
    },
    {
     "ename": "LoadError",
     "evalue": "SQLite.SQLiteException(\"database table is locked\")",
     "output_type": "error",
     "traceback": [
      "SQLite.SQLiteException(\"database table is locked\")",
      "",
      "Stacktrace:",
      "  [1] execute(db::SQLite.DB, stmt::SQLite._Stmt, params::NamedTuple{(), Tuple{}})",
      "    @ SQLite ~/.julia/packages/SQLite/aDggE/src/SQLite.jl:472",
      "  [2] execute(db::SQLite.DB, sql::String, params::NamedTuple{(), Tuple{}})",
      "    @ SQLite ~/.julia/packages/SQLite/aDggE/src/SQLite.jl:486",
      "  [3] #execute#5",
      "    @ ~/.julia/packages/SQLite/aDggE/src/SQLite.jl:492 [inlined]",
      "  [4] execute",
      "    @ ~/.julia/packages/SQLite/aDggE/src/SQLite.jl:492 [inlined]",
      "  [5] #7",
      "    @ ~/.julia/packages/SQLite/aDggE/src/SQLite.jl:615 [inlined]",
      "  [6] transaction",
      "    @ ~/.julia/packages/SQLite/aDggE/src/SQLite.jl:574 [inlined]",
      "  [7] drop!(db::SQLite.DB, table::String; ifexists::Bool)",
      "    @ SQLite ~/.julia/packages/SQLite/aDggE/src/SQLite.jl:614",
      "  [8] drop!",
      "    @ ~/.julia/packages/SQLite/aDggE/src/SQLite.jl:613 [inlined]",
      "  [9] fetch!(db::SQLite.DB, name::String, global_ids::Vector{Int64}, ν_min::Float64, ν_max::Int64, parameters::Vector{String})",
      "    @ HITRAN ~/.julia/packages/HITRAN/fRuff/src/database.jl:78",
      " [10] fetch!(db::SQLite.DB, name::String, global_ids::Vector{Int64}, ν_min::Float64, ν_max::Int64, parameters::Vector{Symbol})",
      "    @ HITRAN ~/.julia/packages/HITRAN/fRuff/src/database.jl:123",
      " [11] fetch!(name::String, global_ids::Vector{Int64}, ν_min::Float64, ν_max::Int64, parameters::Vector{Symbol})",
      "    @ HITRAN ~/.julia/packages/HITRAN/fRuff/src/database.jl:132",
      " [12] top-level scope",
      "    @ In[17]:3",
      " [13] eval",
      "    @ ./boot.jl:373 [inlined]",
      " [14] include_string(mapexpr::typeof(REPL.softscope), mod::Module, code::String, filename::String)",
      "    @ Base ./loading.jl:1196"
     ]
    }
   ],
   "source": [
    "using HITRAN\n",
    "\n",
    "fetch!(\"StdAtm\", iso_id([\"N2\", \"O2\", \"CO2\", \"H2O\", \"CH4\"]), w_0, 10000, [:standard, :ht_self]);\n",
    "wavenumbers, absorption_coefficient = α([\"StdAtm\"];\n",
    "        components=default_environments[:dry_air]        \n",
    "    )\n",
    "transmittance = transmittance_spectrum(absorption_coefficient, 100e2)\n"
   ]
  },
  {
   "cell_type": "code",
   "execution_count": 4,
   "id": "cddc8b78",
   "metadata": {},
   "outputs": [],
   "source": []
  },
  {
   "cell_type": "code",
   "execution_count": 7,
   "id": "79ced653",
   "metadata": {},
   "outputs": [
    {
     "name": "stderr",
     "output_type": "stream",
     "text": [
      "\u001b[32m\u001b[1m   Resolving\u001b[22m\u001b[39m package versions...\n",
      "\u001b[32m\u001b[1m    Updating\u001b[22m\u001b[39m `~/.julia/environments/v1.7/Project.toml`\n",
      " \u001b[90m [c87230d0] \u001b[39m\u001b[92m+ FFMPEG v0.4.1\u001b[39m\n",
      "\u001b[32m\u001b[1m  No Changes\u001b[22m\u001b[39m to `~/.julia/environments/v1.7/Manifest.toml`\n"
     ]
    }
   ],
   "source": [
    "Pkg.add(\"FFMPEG\")"
   ]
  },
  {
   "cell_type": "code",
   "execution_count": 8,
   "id": "71ff2aa1",
   "metadata": {},
   "outputs": [
    {
     "name": "stderr",
     "output_type": "stream",
     "text": [
      "\u001b[32m\u001b[1m   Resolving\u001b[22m\u001b[39m package versions...\n",
      "\u001b[32m\u001b[1m  No Changes\u001b[22m\u001b[39m to `~/.julia/environments/v1.7/Project.toml`\n",
      "\u001b[32m\u001b[1m  No Changes\u001b[22m\u001b[39m to `~/.julia/environments/v1.7/Manifest.toml`\n"
     ]
    }
   ],
   "source": [
    "Pkg.add(\"Plots\")"
   ]
  },
  {
   "cell_type": "code",
   "execution_count": 11,
   "id": "34d6bf81",
   "metadata": {},
   "outputs": [
    {
     "name": "stderr",
     "output_type": "stream",
     "text": [
      "┌ Info: Precompiling Plots [91a5bcdd-55d7-5caf-9e0b-520d859cae80]\n",
      "└ @ Base loading.jl:1423\n",
      "\u001b[91m\u001b[1mERROR: \u001b[22m\u001b[39mLoadError: InitError: could not load library \"/home/simonpf/.julia/artifacts/b069ad81d556658ea64a543367e128e535fab269/lib/libgobject-2.0.so\"\n",
      "/home/simonpf/.julia/artifacts/b069ad81d556658ea64a543367e128e535fab269/lib/libgobject-2.0.so: undefined symbol: g_uri_ref\n",
      "Stacktrace:\n",
      "  [1] \u001b[0m\u001b[1mdlopen\u001b[22m\u001b[0m\u001b[1m(\u001b[22m\u001b[90ms\u001b[39m::\u001b[0mString, \u001b[90mflags\u001b[39m::\u001b[0mUInt32; \u001b[90mthrow_error\u001b[39m::\u001b[0mBool\u001b[0m\u001b[1m)\u001b[22m\n",
      "\u001b[90m    @ \u001b[39m\u001b[90mBase.Libc.Libdl\u001b[39m \u001b[90m./\u001b[39m\u001b[90m\u001b[4mlibdl.jl:117\u001b[24m\u001b[39m\n",
      "  [2] \u001b[0m\u001b[1mdlopen\u001b[22m\u001b[0m\u001b[1m(\u001b[22m\u001b[90ms\u001b[39m::\u001b[0mString, \u001b[90mflags\u001b[39m::\u001b[0mUInt32\u001b[0m\u001b[1m)\u001b[22m\n",
      "\u001b[90m    @ \u001b[39m\u001b[90mBase.Libc.Libdl\u001b[39m \u001b[90m./\u001b[39m\u001b[90m\u001b[4mlibdl.jl:117\u001b[24m\u001b[39m\n",
      "  [3] \u001b[0m\u001b[1mmacro expansion\u001b[22m\n",
      "\u001b[90m    @ \u001b[39m\u001b[90m~/.julia/packages/JLLWrappers/QpMQW/src/products/\u001b[39m\u001b[90m\u001b[4mlibrary_generators.jl:54\u001b[24m\u001b[39m\u001b[90m [inlined]\u001b[39m\n",
      "  [4] \u001b[0m\u001b[1m__init__\u001b[22m\u001b[0m\u001b[1m(\u001b[22m\u001b[0m\u001b[1m)\u001b[22m\n",
      "\u001b[90m    @ \u001b[39m\u001b[35mGlib_jll\u001b[39m \u001b[90m~/.julia/packages/Glib_jll/2OVnY/src/wrappers/\u001b[39m\u001b[90m\u001b[4mx86_64-linux-gnu.jl:36\u001b[24m\u001b[39m\n",
      "  [5] \u001b[0m\u001b[1m_include_from_serialized\u001b[22m\u001b[0m\u001b[1m(\u001b[22m\u001b[90mpath\u001b[39m::\u001b[0mString, \u001b[90mdepmods\u001b[39m::\u001b[0mVector\u001b[90m{Any}\u001b[39m\u001b[0m\u001b[1m)\u001b[22m\n",
      "\u001b[90m    @ \u001b[39m\u001b[90mBase\u001b[39m \u001b[90m./\u001b[39m\u001b[90m\u001b[4mloading.jl:768\u001b[24m\u001b[39m\n",
      "  [6] \u001b[0m\u001b[1m_require_search_from_serialized\u001b[22m\u001b[0m\u001b[1m(\u001b[22m\u001b[90mpkg\u001b[39m::\u001b[0mBase.PkgId, \u001b[90msourcepath\u001b[39m::\u001b[0mString\u001b[0m\u001b[1m)\u001b[22m\n",
      "\u001b[90m    @ \u001b[39m\u001b[90mBase\u001b[39m \u001b[90m./\u001b[39m\u001b[90m\u001b[4mloading.jl:854\u001b[24m\u001b[39m\n",
      "  [7] \u001b[0m\u001b[1m_require\u001b[22m\u001b[0m\u001b[1m(\u001b[22m\u001b[90mpkg\u001b[39m::\u001b[0mBase.PkgId\u001b[0m\u001b[1m)\u001b[22m\n",
      "\u001b[90m    @ \u001b[39m\u001b[90mBase\u001b[39m \u001b[90m./\u001b[39m\u001b[90m\u001b[4mloading.jl:1097\u001b[24m\u001b[39m\n",
      "  [8] \u001b[0m\u001b[1mrequire\u001b[22m\u001b[0m\u001b[1m(\u001b[22m\u001b[90muuidkey\u001b[39m::\u001b[0mBase.PkgId\u001b[0m\u001b[1m)\u001b[22m\n",
      "\u001b[90m    @ \u001b[39m\u001b[90mBase\u001b[39m \u001b[90m./\u001b[39m\u001b[90m\u001b[4mloading.jl:1013\u001b[24m\u001b[39m\n",
      "  [9] \u001b[0m\u001b[1mrequire\u001b[22m\u001b[0m\u001b[1m(\u001b[22m\u001b[90minto\u001b[39m::\u001b[0mModule, \u001b[90mmod\u001b[39m::\u001b[0mSymbol\u001b[0m\u001b[1m)\u001b[22m\n",
      "\u001b[90m    @ \u001b[39m\u001b[90mBase\u001b[39m \u001b[90m./\u001b[39m\u001b[90m\u001b[4mloading.jl:997\u001b[24m\u001b[39m\n",
      " [10] \u001b[0m\u001b[1minclude\u001b[22m\u001b[0m\u001b[1m(\u001b[22m\u001b[90mmod\u001b[39m::\u001b[0mModule, \u001b[90m_path\u001b[39m::\u001b[0mString\u001b[0m\u001b[1m)\u001b[22m\n",
      "\u001b[90m    @ \u001b[39m\u001b[90mBase\u001b[39m \u001b[90m./\u001b[39m\u001b[90m\u001b[4mBase.jl:418\u001b[24m\u001b[39m\n",
      " [11] top-level scope\n",
      "\u001b[90m    @ \u001b[39m\u001b[90m~/.julia/packages/JLLWrappers/QpMQW/src/\u001b[39m\u001b[90m\u001b[4mtoplevel_generators.jl:188\u001b[24m\u001b[39m\n",
      " [12] \u001b[0m\u001b[1minclude\u001b[22m\n",
      "\u001b[90m    @ \u001b[39m\u001b[90m./\u001b[39m\u001b[90m\u001b[4mBase.jl:418\u001b[24m\u001b[39m\u001b[90m [inlined]\u001b[39m\n",
      " [13] \u001b[0m\u001b[1minclude_package_for_output\u001b[22m\u001b[0m\u001b[1m(\u001b[22m\u001b[90mpkg\u001b[39m::\u001b[0mBase.PkgId, \u001b[90minput\u001b[39m::\u001b[0mString, \u001b[90mdepot_path\u001b[39m::\u001b[0mVector\u001b[90m{String}\u001b[39m, \u001b[90mdl_load_path\u001b[39m::\u001b[0mVector\u001b[90m{String}\u001b[39m, \u001b[90mload_path\u001b[39m::\u001b[0mVector\u001b[90m{String}\u001b[39m, \u001b[90mconcrete_deps\u001b[39m::\u001b[0mVector\u001b[90m{Pair{Base.PkgId, UInt64}}\u001b[39m, \u001b[90msource\u001b[39m::\u001b[0mString\u001b[0m\u001b[1m)\u001b[22m\n",
      "\u001b[90m    @ \u001b[39m\u001b[90mBase\u001b[39m \u001b[90m./\u001b[39m\u001b[90m\u001b[4mloading.jl:1318\u001b[24m\u001b[39m\n",
      " [14] top-level scope\n",
      "\u001b[90m    @ \u001b[39m\u001b[90m\u001b[4mnone:1\u001b[24m\u001b[39m\n",
      " [15] \u001b[0m\u001b[1meval\u001b[22m\n",
      "\u001b[90m    @ \u001b[39m\u001b[90m./\u001b[39m\u001b[90m\u001b[4mboot.jl:373\u001b[24m\u001b[39m\u001b[90m [inlined]\u001b[39m\n",
      " [16] \u001b[0m\u001b[1meval\u001b[22m\u001b[0m\u001b[1m(\u001b[22m\u001b[90mx\u001b[39m::\u001b[0mExpr\u001b[0m\u001b[1m)\u001b[22m\n",
      "\u001b[90m    @ \u001b[39m\u001b[90mBase.MainInclude\u001b[39m \u001b[90m./\u001b[39m\u001b[90m\u001b[4mclient.jl:453\u001b[24m\u001b[39m\n",
      " [17] top-level scope\n",
      "\u001b[90m    @ \u001b[39m\u001b[90m\u001b[4mnone:1\u001b[24m\u001b[39m\n",
      "during initialization of module Glib_jll\n",
      "in expression starting at /home/simonpf/.julia/packages/Cairo_jll/HW4xi/src/wrappers/x86_64-linux-gnu.jl:4\n",
      "in expression starting at /home/simonpf/.julia/packages/Cairo_jll/HW4xi/src/Cairo_jll.jl:2\n",
      "\u001b[91m\u001b[1mERROR: \u001b[22m\u001b[39mLoadError: Failed to precompile Cairo_jll [83423d85-b0ee-5818-9007-b63ccbeb887a] to /home/simonpf/.julia/compiled/v1.7/Cairo_jll/jl_vXlVag.\n",
      "Stacktrace:\n",
      "  [1] \u001b[0m\u001b[1merror\u001b[22m\u001b[0m\u001b[1m(\u001b[22m\u001b[90ms\u001b[39m::\u001b[0mString\u001b[0m\u001b[1m)\u001b[22m\n",
      "\u001b[90m    @ \u001b[39m\u001b[90mBase\u001b[39m \u001b[90m./\u001b[39m\u001b[90m\u001b[4merror.jl:33\u001b[24m\u001b[39m\n",
      "  [2] \u001b[0m\u001b[1mcompilecache\u001b[22m\u001b[0m\u001b[1m(\u001b[22m\u001b[90mpkg\u001b[39m::\u001b[0mBase.PkgId, \u001b[90mpath\u001b[39m::\u001b[0mString, \u001b[90minternal_stderr\u001b[39m::\u001b[0mIO, \u001b[90minternal_stdout\u001b[39m::\u001b[0mIO, \u001b[90mignore_loaded_modules\u001b[39m::\u001b[0mBool\u001b[0m\u001b[1m)\u001b[22m\n",
      "\u001b[90m    @ \u001b[39m\u001b[90mBase\u001b[39m \u001b[90m./\u001b[39m\u001b[90m\u001b[4mloading.jl:1466\u001b[24m\u001b[39m\n",
      "  [3] \u001b[0m\u001b[1mcompilecache\u001b[22m\u001b[0m\u001b[1m(\u001b[22m\u001b[90mpkg\u001b[39m::\u001b[0mBase.PkgId, \u001b[90mpath\u001b[39m::\u001b[0mString\u001b[0m\u001b[1m)\u001b[22m\n",
      "\u001b[90m    @ \u001b[39m\u001b[90mBase\u001b[39m \u001b[90m./\u001b[39m\u001b[90m\u001b[4mloading.jl:1410\u001b[24m\u001b[39m\n",
      "  [4] \u001b[0m\u001b[1m_require\u001b[22m\u001b[0m\u001b[1m(\u001b[22m\u001b[90mpkg\u001b[39m::\u001b[0mBase.PkgId\u001b[0m\u001b[1m)\u001b[22m\n",
      "\u001b[90m    @ \u001b[39m\u001b[90mBase\u001b[39m \u001b[90m./\u001b[39m\u001b[90m\u001b[4mloading.jl:1120\u001b[24m\u001b[39m\n",
      "  [5] \u001b[0m\u001b[1mrequire\u001b[22m\u001b[0m\u001b[1m(\u001b[22m\u001b[90muuidkey\u001b[39m::\u001b[0mBase.PkgId\u001b[0m\u001b[1m)\u001b[22m\n",
      "\u001b[90m    @ \u001b[39m\u001b[90mBase\u001b[39m \u001b[90m./\u001b[39m\u001b[90m\u001b[4mloading.jl:1013\u001b[24m\u001b[39m\n",
      "  [6] \u001b[0m\u001b[1mrequire\u001b[22m\u001b[0m\u001b[1m(\u001b[22m\u001b[90minto\u001b[39m::\u001b[0mModule, \u001b[90mmod\u001b[39m::\u001b[0mSymbol\u001b[0m\u001b[1m)\u001b[22m\n",
      "\u001b[90m    @ \u001b[39m\u001b[90mBase\u001b[39m \u001b[90m./\u001b[39m\u001b[90m\u001b[4mloading.jl:997\u001b[24m\u001b[39m\n",
      "  [7] \u001b[0m\u001b[1minclude\u001b[22m\u001b[0m\u001b[1m(\u001b[22m\u001b[90mmod\u001b[39m::\u001b[0mModule, \u001b[90m_path\u001b[39m::\u001b[0mString\u001b[0m\u001b[1m)\u001b[22m\n",
      "\u001b[90m    @ \u001b[39m\u001b[90mBase\u001b[39m \u001b[90m./\u001b[39m\u001b[90m\u001b[4mBase.jl:418\u001b[24m\u001b[39m\n",
      "  [8] top-level scope\n",
      "\u001b[90m    @ \u001b[39m\u001b[90m~/.julia/packages/JLLWrappers/QpMQW/src/\u001b[39m\u001b[90m\u001b[4mtoplevel_generators.jl:188\u001b[24m\u001b[39m\n",
      "  [9] \u001b[0m\u001b[1minclude\u001b[22m\n",
      "\u001b[90m    @ \u001b[39m\u001b[90m./\u001b[39m\u001b[90m\u001b[4mBase.jl:418\u001b[24m\u001b[39m\u001b[90m [inlined]\u001b[39m\n",
      " [10] \u001b[0m\u001b[1minclude_package_for_output\u001b[22m\u001b[0m\u001b[1m(\u001b[22m\u001b[90mpkg\u001b[39m::\u001b[0mBase.PkgId, \u001b[90minput\u001b[39m::\u001b[0mString, \u001b[90mdepot_path\u001b[39m::\u001b[0mVector\u001b[90m{String}\u001b[39m, \u001b[90mdl_load_path\u001b[39m::\u001b[0mVector\u001b[90m{String}\u001b[39m, \u001b[90mload_path\u001b[39m::\u001b[0mVector\u001b[90m{String}\u001b[39m, \u001b[90mconcrete_deps\u001b[39m::\u001b[0mVector\u001b[90m{Pair{Base.PkgId, UInt64}}\u001b[39m, \u001b[90msource\u001b[39m::\u001b[0mString\u001b[0m\u001b[1m)\u001b[22m\n",
      "\u001b[90m    @ \u001b[39m\u001b[90mBase\u001b[39m \u001b[90m./\u001b[39m\u001b[90m\u001b[4mloading.jl:1318\u001b[24m\u001b[39m\n",
      " [11] top-level scope\n",
      "\u001b[90m    @ \u001b[39m\u001b[90m\u001b[4mnone:1\u001b[24m\u001b[39m\n",
      " [12] \u001b[0m\u001b[1meval\u001b[22m\n",
      "\u001b[90m    @ \u001b[39m\u001b[90m./\u001b[39m\u001b[90m\u001b[4mboot.jl:373\u001b[24m\u001b[39m\u001b[90m [inlined]\u001b[39m\n",
      " [13] \u001b[0m\u001b[1meval\u001b[22m\u001b[0m\u001b[1m(\u001b[22m\u001b[90mx\u001b[39m::\u001b[0mExpr\u001b[0m\u001b[1m)\u001b[22m\n",
      "\u001b[90m    @ \u001b[39m\u001b[90mBase.MainInclude\u001b[39m \u001b[90m./\u001b[39m\u001b[90m\u001b[4mclient.jl:453\u001b[24m\u001b[39m\n",
      " [14] top-level scope\n",
      "\u001b[90m    @ \u001b[39m\u001b[90m\u001b[4mnone:1\u001b[24m\u001b[39m\n",
      "in expression starting at /home/simonpf/.julia/packages/HarfBuzz_jll/zavaV/src/wrappers/x86_64-linux-gnu.jl:4\n",
      "in expression starting at /home/simonpf/.julia/packages/HarfBuzz_jll/zavaV/src/HarfBuzz_jll.jl:2\n",
      "\u001b[91m\u001b[1mERROR: \u001b[22m\u001b[39mLoadError: Failed to precompile HarfBuzz_jll [2e76f6c2-a576-52d4-95c1-20adfe4de566] to /home/simonpf/.julia/compiled/v1.7/HarfBuzz_jll/jl_8mL7WO.\n",
      "Stacktrace:\n",
      "  [1] \u001b[0m\u001b[1merror\u001b[22m\u001b[0m\u001b[1m(\u001b[22m\u001b[90ms\u001b[39m::\u001b[0mString\u001b[0m\u001b[1m)\u001b[22m\n",
      "\u001b[90m    @ \u001b[39m\u001b[90mBase\u001b[39m \u001b[90m./\u001b[39m\u001b[90m\u001b[4merror.jl:33\u001b[24m\u001b[39m\n",
      "  [2] \u001b[0m\u001b[1mcompilecache\u001b[22m\u001b[0m\u001b[1m(\u001b[22m\u001b[90mpkg\u001b[39m::\u001b[0mBase.PkgId, \u001b[90mpath\u001b[39m::\u001b[0mString, \u001b[90minternal_stderr\u001b[39m::\u001b[0mIO, \u001b[90minternal_stdout\u001b[39m::\u001b[0mIO, \u001b[90mignore_loaded_modules\u001b[39m::\u001b[0mBool\u001b[0m\u001b[1m)\u001b[22m\n",
      "\u001b[90m    @ \u001b[39m\u001b[90mBase\u001b[39m \u001b[90m./\u001b[39m\u001b[90m\u001b[4mloading.jl:1466\u001b[24m\u001b[39m\n",
      "  [3] \u001b[0m\u001b[1mcompilecache\u001b[22m\u001b[0m\u001b[1m(\u001b[22m\u001b[90mpkg\u001b[39m::\u001b[0mBase.PkgId, \u001b[90mpath\u001b[39m::\u001b[0mString\u001b[0m\u001b[1m)\u001b[22m\n",
      "\u001b[90m    @ \u001b[39m\u001b[90mBase\u001b[39m \u001b[90m./\u001b[39m\u001b[90m\u001b[4mloading.jl:1410\u001b[24m\u001b[39m\n",
      "  [4] \u001b[0m\u001b[1m_require\u001b[22m\u001b[0m\u001b[1m(\u001b[22m\u001b[90mpkg\u001b[39m::\u001b[0mBase.PkgId\u001b[0m\u001b[1m)\u001b[22m\n",
      "\u001b[90m    @ \u001b[39m\u001b[90mBase\u001b[39m \u001b[90m./\u001b[39m\u001b[90m\u001b[4mloading.jl:1120\u001b[24m\u001b[39m\n",
      "  [5] \u001b[0m\u001b[1mrequire\u001b[22m\u001b[0m\u001b[1m(\u001b[22m\u001b[90muuidkey\u001b[39m::\u001b[0mBase.PkgId\u001b[0m\u001b[1m)\u001b[22m\n",
      "\u001b[90m    @ \u001b[39m\u001b[90mBase\u001b[39m \u001b[90m./\u001b[39m\u001b[90m\u001b[4mloading.jl:1013\u001b[24m\u001b[39m\n",
      "  [6] \u001b[0m\u001b[1mrequire\u001b[22m\u001b[0m\u001b[1m(\u001b[22m\u001b[90minto\u001b[39m::\u001b[0mModule, \u001b[90mmod\u001b[39m::\u001b[0mSymbol\u001b[0m\u001b[1m)\u001b[22m\n",
      "\u001b[90m    @ \u001b[39m\u001b[90mBase\u001b[39m \u001b[90m./\u001b[39m\u001b[90m\u001b[4mloading.jl:997\u001b[24m\u001b[39m\n",
      "  [7] \u001b[0m\u001b[1minclude\u001b[22m\u001b[0m\u001b[1m(\u001b[22m\u001b[90mmod\u001b[39m::\u001b[0mModule, \u001b[90m_path\u001b[39m::\u001b[0mString\u001b[0m\u001b[1m)\u001b[22m\n",
      "\u001b[90m    @ \u001b[39m\u001b[90mBase\u001b[39m \u001b[90m./\u001b[39m\u001b[90m\u001b[4mBase.jl:418\u001b[24m\u001b[39m\n",
      "  [8] top-level scope\n",
      "\u001b[90m    @ \u001b[39m\u001b[90m~/.julia/packages/JLLWrappers/QpMQW/src/\u001b[39m\u001b[90m\u001b[4mtoplevel_generators.jl:188\u001b[24m\u001b[39m\n",
      "  [9] \u001b[0m\u001b[1minclude\u001b[22m\n",
      "\u001b[90m    @ \u001b[39m\u001b[90m./\u001b[39m\u001b[90m\u001b[4mBase.jl:418\u001b[24m\u001b[39m\u001b[90m [inlined]\u001b[39m\n",
      " [10] \u001b[0m\u001b[1minclude_package_for_output\u001b[22m\u001b[0m\u001b[1m(\u001b[22m\u001b[90mpkg\u001b[39m::\u001b[0mBase.PkgId, \u001b[90minput\u001b[39m::\u001b[0mString, \u001b[90mdepot_path\u001b[39m::\u001b[0mVector\u001b[90m{String}\u001b[39m, \u001b[90mdl_load_path\u001b[39m::\u001b[0mVector\u001b[90m{String}\u001b[39m, \u001b[90mload_path\u001b[39m::\u001b[0mVector\u001b[90m{String}\u001b[39m, \u001b[90mconcrete_deps\u001b[39m::\u001b[0mVector\u001b[90m{Pair{Base.PkgId, UInt64}}\u001b[39m, \u001b[90msource\u001b[39m::\u001b[0mString\u001b[0m\u001b[1m)\u001b[22m\n",
      "\u001b[90m    @ \u001b[39m\u001b[90mBase\u001b[39m \u001b[90m./\u001b[39m\u001b[90m\u001b[4mloading.jl:1318\u001b[24m\u001b[39m\n",
      " [11] top-level scope\n",
      "\u001b[90m    @ \u001b[39m\u001b[90m\u001b[4mnone:1\u001b[24m\u001b[39m\n",
      " [12] \u001b[0m\u001b[1meval\u001b[22m\n",
      "\u001b[90m    @ \u001b[39m\u001b[90m./\u001b[39m\u001b[90m\u001b[4mboot.jl:373\u001b[24m\u001b[39m\u001b[90m [inlined]\u001b[39m\n",
      " [13] \u001b[0m\u001b[1meval\u001b[22m\u001b[0m\u001b[1m(\u001b[22m\u001b[90mx\u001b[39m::\u001b[0mExpr\u001b[0m\u001b[1m)\u001b[22m\n",
      "\u001b[90m    @ \u001b[39m\u001b[90mBase.MainInclude\u001b[39m \u001b[90m./\u001b[39m\u001b[90m\u001b[4mclient.jl:453\u001b[24m\u001b[39m\n",
      " [14] top-level scope\n",
      "\u001b[90m    @ \u001b[39m\u001b[90m\u001b[4mnone:1\u001b[24m\u001b[39m\n",
      "in expression starting at /home/simonpf/.julia/packages/libass_jll/SaaQW/src/wrappers/x86_64-linux-gnu.jl:6\n",
      "in expression starting at /home/simonpf/.julia/packages/libass_jll/SaaQW/src/libass_jll.jl:2\n",
      "\u001b[91m\u001b[1mERROR: \u001b[22m\u001b[39mLoadError: Failed to precompile libass_jll [0ac62f75-1d6f-5e53-bd7c-93b484bb37c0] to /home/simonpf/.julia/compiled/v1.7/libass_jll/jl_zaHYEo.\n",
      "Stacktrace:\n",
      "  [1] \u001b[0m\u001b[1merror\u001b[22m\u001b[0m\u001b[1m(\u001b[22m\u001b[90ms\u001b[39m::\u001b[0mString\u001b[0m\u001b[1m)\u001b[22m\n",
      "\u001b[90m    @ \u001b[39m\u001b[90mBase\u001b[39m \u001b[90m./\u001b[39m\u001b[90m\u001b[4merror.jl:33\u001b[24m\u001b[39m\n",
      "  [2] \u001b[0m\u001b[1mcompilecache\u001b[22m\u001b[0m\u001b[1m(\u001b[22m\u001b[90mpkg\u001b[39m::\u001b[0mBase.PkgId, \u001b[90mpath\u001b[39m::\u001b[0mString, \u001b[90minternal_stderr\u001b[39m::\u001b[0mIO, \u001b[90minternal_stdout\u001b[39m::\u001b[0mIO, \u001b[90mignore_loaded_modules\u001b[39m::\u001b[0mBool\u001b[0m\u001b[1m)\u001b[22m\n",
      "\u001b[90m    @ \u001b[39m\u001b[90mBase\u001b[39m \u001b[90m./\u001b[39m\u001b[90m\u001b[4mloading.jl:1466\u001b[24m\u001b[39m\n",
      "  [3] \u001b[0m\u001b[1mcompilecache\u001b[22m\u001b[0m\u001b[1m(\u001b[22m\u001b[90mpkg\u001b[39m::\u001b[0mBase.PkgId, \u001b[90mpath\u001b[39m::\u001b[0mString\u001b[0m\u001b[1m)\u001b[22m\n",
      "\u001b[90m    @ \u001b[39m\u001b[90mBase\u001b[39m \u001b[90m./\u001b[39m\u001b[90m\u001b[4mloading.jl:1410\u001b[24m\u001b[39m\n"
     ]
    },
    {
     "name": "stderr",
     "output_type": "stream",
     "text": [
      "  [4] \u001b[0m\u001b[1m_require\u001b[22m\u001b[0m\u001b[1m(\u001b[22m\u001b[90mpkg\u001b[39m::\u001b[0mBase.PkgId\u001b[0m\u001b[1m)\u001b[22m\n",
      "\u001b[90m    @ \u001b[39m\u001b[90mBase\u001b[39m \u001b[90m./\u001b[39m\u001b[90m\u001b[4mloading.jl:1120\u001b[24m\u001b[39m\n",
      "  [5] \u001b[0m\u001b[1mrequire\u001b[22m\u001b[0m\u001b[1m(\u001b[22m\u001b[90muuidkey\u001b[39m::\u001b[0mBase.PkgId\u001b[0m\u001b[1m)\u001b[22m\n",
      "\u001b[90m    @ \u001b[39m\u001b[90mBase\u001b[39m \u001b[90m./\u001b[39m\u001b[90m\u001b[4mloading.jl:1013\u001b[24m\u001b[39m\n",
      "  [6] \u001b[0m\u001b[1mrequire\u001b[22m\u001b[0m\u001b[1m(\u001b[22m\u001b[90minto\u001b[39m::\u001b[0mModule, \u001b[90mmod\u001b[39m::\u001b[0mSymbol\u001b[0m\u001b[1m)\u001b[22m\n",
      "\u001b[90m    @ \u001b[39m\u001b[90mBase\u001b[39m \u001b[90m./\u001b[39m\u001b[90m\u001b[4mloading.jl:997\u001b[24m\u001b[39m\n",
      "  [7] \u001b[0m\u001b[1minclude\u001b[22m\u001b[0m\u001b[1m(\u001b[22m\u001b[90mmod\u001b[39m::\u001b[0mModule, \u001b[90m_path\u001b[39m::\u001b[0mString\u001b[0m\u001b[1m)\u001b[22m\n",
      "\u001b[90m    @ \u001b[39m\u001b[90mBase\u001b[39m \u001b[90m./\u001b[39m\u001b[90m\u001b[4mBase.jl:418\u001b[24m\u001b[39m\n",
      "  [8] top-level scope\n",
      "\u001b[90m    @ \u001b[39m\u001b[90m~/.julia/packages/JLLWrappers/QpMQW/src/\u001b[39m\u001b[90m\u001b[4mtoplevel_generators.jl:188\u001b[24m\u001b[39m\n",
      "  [9] \u001b[0m\u001b[1minclude\u001b[22m\n",
      "\u001b[90m    @ \u001b[39m\u001b[90m./\u001b[39m\u001b[90m\u001b[4mBase.jl:418\u001b[24m\u001b[39m\u001b[90m [inlined]\u001b[39m\n",
      " [10] \u001b[0m\u001b[1minclude_package_for_output\u001b[22m\u001b[0m\u001b[1m(\u001b[22m\u001b[90mpkg\u001b[39m::\u001b[0mBase.PkgId, \u001b[90minput\u001b[39m::\u001b[0mString, \u001b[90mdepot_path\u001b[39m::\u001b[0mVector\u001b[90m{String}\u001b[39m, \u001b[90mdl_load_path\u001b[39m::\u001b[0mVector\u001b[90m{String}\u001b[39m, \u001b[90mload_path\u001b[39m::\u001b[0mVector\u001b[90m{String}\u001b[39m, \u001b[90mconcrete_deps\u001b[39m::\u001b[0mVector\u001b[90m{Pair{Base.PkgId, UInt64}}\u001b[39m, \u001b[90msource\u001b[39m::\u001b[0mString\u001b[0m\u001b[1m)\u001b[22m\n",
      "\u001b[90m    @ \u001b[39m\u001b[90mBase\u001b[39m \u001b[90m./\u001b[39m\u001b[90m\u001b[4mloading.jl:1318\u001b[24m\u001b[39m\n",
      " [11] top-level scope\n",
      "\u001b[90m    @ \u001b[39m\u001b[90m\u001b[4mnone:1\u001b[24m\u001b[39m\n",
      " [12] \u001b[0m\u001b[1meval\u001b[22m\n",
      "\u001b[90m    @ \u001b[39m\u001b[90m./\u001b[39m\u001b[90m\u001b[4mboot.jl:373\u001b[24m\u001b[39m\u001b[90m [inlined]\u001b[39m\n",
      " [13] \u001b[0m\u001b[1meval\u001b[22m\u001b[0m\u001b[1m(\u001b[22m\u001b[90mx\u001b[39m::\u001b[0mExpr\u001b[0m\u001b[1m)\u001b[22m\n",
      "\u001b[90m    @ \u001b[39m\u001b[90mBase.MainInclude\u001b[39m \u001b[90m./\u001b[39m\u001b[90m\u001b[4mclient.jl:453\u001b[24m\u001b[39m\n",
      " [14] top-level scope\n",
      "\u001b[90m    @ \u001b[39m\u001b[90m\u001b[4mnone:1\u001b[24m\u001b[39m\n",
      "in expression starting at /home/simonpf/.julia/packages/FFMPEG_jll/ECokx/src/wrappers/x86_64-linux-gnu.jl:4\n",
      "in expression starting at /home/simonpf/.julia/packages/FFMPEG_jll/ECokx/src/FFMPEG_jll.jl:2\n",
      "\u001b[91m\u001b[1mERROR: \u001b[22m\u001b[39mLoadError: Failed to precompile FFMPEG_jll [b22a6f82-2f65-5046-a5b2-351ab43fb4e5] to /home/simonpf/.julia/compiled/v1.7/FFMPEG_jll/jl_wJcc09.\n",
      "Stacktrace:\n",
      "  [1] \u001b[0m\u001b[1merror\u001b[22m\u001b[0m\u001b[1m(\u001b[22m\u001b[90ms\u001b[39m::\u001b[0mString\u001b[0m\u001b[1m)\u001b[22m\n",
      "\u001b[90m    @ \u001b[39m\u001b[90mBase\u001b[39m \u001b[90m./\u001b[39m\u001b[90m\u001b[4merror.jl:33\u001b[24m\u001b[39m\n",
      "  [2] \u001b[0m\u001b[1mcompilecache\u001b[22m\u001b[0m\u001b[1m(\u001b[22m\u001b[90mpkg\u001b[39m::\u001b[0mBase.PkgId, \u001b[90mpath\u001b[39m::\u001b[0mString, \u001b[90minternal_stderr\u001b[39m::\u001b[0mIO, \u001b[90minternal_stdout\u001b[39m::\u001b[0mIO, \u001b[90mignore_loaded_modules\u001b[39m::\u001b[0mBool\u001b[0m\u001b[1m)\u001b[22m\n",
      "\u001b[90m    @ \u001b[39m\u001b[90mBase\u001b[39m \u001b[90m./\u001b[39m\u001b[90m\u001b[4mloading.jl:1466\u001b[24m\u001b[39m\n",
      "  [3] \u001b[0m\u001b[1mcompilecache\u001b[22m\u001b[0m\u001b[1m(\u001b[22m\u001b[90mpkg\u001b[39m::\u001b[0mBase.PkgId, \u001b[90mpath\u001b[39m::\u001b[0mString\u001b[0m\u001b[1m)\u001b[22m\n",
      "\u001b[90m    @ \u001b[39m\u001b[90mBase\u001b[39m \u001b[90m./\u001b[39m\u001b[90m\u001b[4mloading.jl:1410\u001b[24m\u001b[39m\n",
      "  [4] \u001b[0m\u001b[1m_require\u001b[22m\u001b[0m\u001b[1m(\u001b[22m\u001b[90mpkg\u001b[39m::\u001b[0mBase.PkgId\u001b[0m\u001b[1m)\u001b[22m\n",
      "\u001b[90m    @ \u001b[39m\u001b[90mBase\u001b[39m \u001b[90m./\u001b[39m\u001b[90m\u001b[4mloading.jl:1120\u001b[24m\u001b[39m\n",
      "  [5] \u001b[0m\u001b[1mrequire\u001b[22m\u001b[0m\u001b[1m(\u001b[22m\u001b[90muuidkey\u001b[39m::\u001b[0mBase.PkgId\u001b[0m\u001b[1m)\u001b[22m\n",
      "\u001b[90m    @ \u001b[39m\u001b[90mBase\u001b[39m \u001b[90m./\u001b[39m\u001b[90m\u001b[4mloading.jl:1013\u001b[24m\u001b[39m\n",
      "  [6] \u001b[0m\u001b[1mrequire\u001b[22m\u001b[0m\u001b[1m(\u001b[22m\u001b[90minto\u001b[39m::\u001b[0mModule, \u001b[90mmod\u001b[39m::\u001b[0mSymbol\u001b[0m\u001b[1m)\u001b[22m\n",
      "\u001b[90m    @ \u001b[39m\u001b[90mBase\u001b[39m \u001b[90m./\u001b[39m\u001b[90m\u001b[4mloading.jl:997\u001b[24m\u001b[39m\n",
      "  [7] \u001b[0m\u001b[1minclude\u001b[22m\n",
      "\u001b[90m    @ \u001b[39m\u001b[90m./\u001b[39m\u001b[90m\u001b[4mBase.jl:418\u001b[24m\u001b[39m\u001b[90m [inlined]\u001b[39m\n",
      "  [8] \u001b[0m\u001b[1minclude_package_for_output\u001b[22m\u001b[0m\u001b[1m(\u001b[22m\u001b[90mpkg\u001b[39m::\u001b[0mBase.PkgId, \u001b[90minput\u001b[39m::\u001b[0mString, \u001b[90mdepot_path\u001b[39m::\u001b[0mVector\u001b[90m{String}\u001b[39m, \u001b[90mdl_load_path\u001b[39m::\u001b[0mVector\u001b[90m{String}\u001b[39m, \u001b[90mload_path\u001b[39m::\u001b[0mVector\u001b[90m{String}\u001b[39m, \u001b[90mconcrete_deps\u001b[39m::\u001b[0mVector\u001b[90m{Pair{Base.PkgId, UInt64}}\u001b[39m, \u001b[90msource\u001b[39m::\u001b[0mString\u001b[0m\u001b[1m)\u001b[22m\n",
      "\u001b[90m    @ \u001b[39m\u001b[90mBase\u001b[39m \u001b[90m./\u001b[39m\u001b[90m\u001b[4mloading.jl:1318\u001b[24m\u001b[39m\n",
      "  [9] top-level scope\n",
      "\u001b[90m    @ \u001b[39m\u001b[90m\u001b[4mnone:1\u001b[24m\u001b[39m\n",
      " [10] \u001b[0m\u001b[1meval\u001b[22m\n",
      "\u001b[90m    @ \u001b[39m\u001b[90m./\u001b[39m\u001b[90m\u001b[4mboot.jl:373\u001b[24m\u001b[39m\u001b[90m [inlined]\u001b[39m\n",
      " [11] \u001b[0m\u001b[1meval\u001b[22m\u001b[0m\u001b[1m(\u001b[22m\u001b[90mx\u001b[39m::\u001b[0mExpr\u001b[0m\u001b[1m)\u001b[22m\n",
      "\u001b[90m    @ \u001b[39m\u001b[90mBase.MainInclude\u001b[39m \u001b[90m./\u001b[39m\u001b[90m\u001b[4mclient.jl:453\u001b[24m\u001b[39m\n",
      " [12] top-level scope\n",
      "\u001b[90m    @ \u001b[39m\u001b[90m\u001b[4mnone:1\u001b[24m\u001b[39m\n",
      "in expression starting at /home/simonpf/.julia/packages/FFMPEG/OUpap/src/FFMPEG.jl:1\n",
      "\u001b[91m\u001b[1mERROR: \u001b[22m\u001b[39mLoadError: Failed to precompile FFMPEG [c87230d0-a227-11e9-1b43-d7ebe4e7570a] to /home/simonpf/.julia/compiled/v1.7/FFMPEG/jl_FKcfmV.\n",
      "Stacktrace:\n",
      "  [1] \u001b[0m\u001b[1merror\u001b[22m\u001b[0m\u001b[1m(\u001b[22m\u001b[90ms\u001b[39m::\u001b[0mString\u001b[0m\u001b[1m)\u001b[22m\n",
      "\u001b[90m    @ \u001b[39m\u001b[90mBase\u001b[39m \u001b[90m./\u001b[39m\u001b[90m\u001b[4merror.jl:33\u001b[24m\u001b[39m\n",
      "  [2] \u001b[0m\u001b[1mcompilecache\u001b[22m\u001b[0m\u001b[1m(\u001b[22m\u001b[90mpkg\u001b[39m::\u001b[0mBase.PkgId, \u001b[90mpath\u001b[39m::\u001b[0mString, \u001b[90minternal_stderr\u001b[39m::\u001b[0mIO, \u001b[90minternal_stdout\u001b[39m::\u001b[0mIO, \u001b[90mignore_loaded_modules\u001b[39m::\u001b[0mBool\u001b[0m\u001b[1m)\u001b[22m\n",
      "\u001b[90m    @ \u001b[39m\u001b[90mBase\u001b[39m \u001b[90m./\u001b[39m\u001b[90m\u001b[4mloading.jl:1466\u001b[24m\u001b[39m\n",
      "  [3] \u001b[0m\u001b[1mcompilecache\u001b[22m\u001b[0m\u001b[1m(\u001b[22m\u001b[90mpkg\u001b[39m::\u001b[0mBase.PkgId, \u001b[90mpath\u001b[39m::\u001b[0mString\u001b[0m\u001b[1m)\u001b[22m\n",
      "\u001b[90m    @ \u001b[39m\u001b[90mBase\u001b[39m \u001b[90m./\u001b[39m\u001b[90m\u001b[4mloading.jl:1410\u001b[24m\u001b[39m\n",
      "  [4] \u001b[0m\u001b[1m_require\u001b[22m\u001b[0m\u001b[1m(\u001b[22m\u001b[90mpkg\u001b[39m::\u001b[0mBase.PkgId\u001b[0m\u001b[1m)\u001b[22m\n",
      "\u001b[90m    @ \u001b[39m\u001b[90mBase\u001b[39m \u001b[90m./\u001b[39m\u001b[90m\u001b[4mloading.jl:1120\u001b[24m\u001b[39m\n",
      "  [5] \u001b[0m\u001b[1mrequire\u001b[22m\u001b[0m\u001b[1m(\u001b[22m\u001b[90muuidkey\u001b[39m::\u001b[0mBase.PkgId\u001b[0m\u001b[1m)\u001b[22m\n",
      "\u001b[90m    @ \u001b[39m\u001b[90mBase\u001b[39m \u001b[90m./\u001b[39m\u001b[90m\u001b[4mloading.jl:1013\u001b[24m\u001b[39m\n",
      "  [6] \u001b[0m\u001b[1mrequire\u001b[22m\u001b[0m\u001b[1m(\u001b[22m\u001b[90minto\u001b[39m::\u001b[0mModule, \u001b[90mmod\u001b[39m::\u001b[0mSymbol\u001b[0m\u001b[1m)\u001b[22m\n",
      "\u001b[90m    @ \u001b[39m\u001b[90mBase\u001b[39m \u001b[90m./\u001b[39m\u001b[90m\u001b[4mloading.jl:997\u001b[24m\u001b[39m\n",
      "  [7] \u001b[0m\u001b[1minclude\u001b[22m\n",
      "\u001b[90m    @ \u001b[39m\u001b[90m./\u001b[39m\u001b[90m\u001b[4mBase.jl:418\u001b[24m\u001b[39m\u001b[90m [inlined]\u001b[39m\n",
      "  [8] \u001b[0m\u001b[1minclude_package_for_output\u001b[22m\u001b[0m\u001b[1m(\u001b[22m\u001b[90mpkg\u001b[39m::\u001b[0mBase.PkgId, \u001b[90minput\u001b[39m::\u001b[0mString, \u001b[90mdepot_path\u001b[39m::\u001b[0mVector\u001b[90m{String}\u001b[39m, \u001b[90mdl_load_path\u001b[39m::\u001b[0mVector\u001b[90m{String}\u001b[39m, \u001b[90mload_path\u001b[39m::\u001b[0mVector\u001b[90m{String}\u001b[39m, \u001b[90mconcrete_deps\u001b[39m::\u001b[0mVector\u001b[90m{Pair{Base.PkgId, UInt64}}\u001b[39m, \u001b[90msource\u001b[39m::\u001b[0mNothing\u001b[0m\u001b[1m)\u001b[22m\n",
      "\u001b[90m    @ \u001b[39m\u001b[90mBase\u001b[39m \u001b[90m./\u001b[39m\u001b[90m\u001b[4mloading.jl:1318\u001b[24m\u001b[39m\n",
      "  [9] top-level scope\n",
      "\u001b[90m    @ \u001b[39m\u001b[90m\u001b[4mnone:1\u001b[24m\u001b[39m\n",
      " [10] \u001b[0m\u001b[1meval\u001b[22m\n",
      "\u001b[90m    @ \u001b[39m\u001b[90m./\u001b[39m\u001b[90m\u001b[4mboot.jl:373\u001b[24m\u001b[39m\u001b[90m [inlined]\u001b[39m\n",
      " [11] \u001b[0m\u001b[1meval\u001b[22m\u001b[0m\u001b[1m(\u001b[22m\u001b[90mx\u001b[39m::\u001b[0mExpr\u001b[0m\u001b[1m)\u001b[22m\n",
      "\u001b[90m    @ \u001b[39m\u001b[90mBase.MainInclude\u001b[39m \u001b[90m./\u001b[39m\u001b[90m\u001b[4mclient.jl:453\u001b[24m\u001b[39m\n",
      " [12] top-level scope\n",
      "\u001b[90m    @ \u001b[39m\u001b[90m\u001b[4mnone:1\u001b[24m\u001b[39m\n",
      "in expression starting at /home/simonpf/.julia/packages/Plots/dNEbX/src/Plots.jl:1\n"
     ]
    },
    {
     "ename": "LoadError",
     "evalue": "Failed to precompile Plots [91a5bcdd-55d7-5caf-9e0b-520d859cae80] to /home/simonpf/.julia/compiled/v1.7/Plots/jl_0l3LvS.",
     "output_type": "error",
     "traceback": [
      "Failed to precompile Plots [91a5bcdd-55d7-5caf-9e0b-520d859cae80] to /home/simonpf/.julia/compiled/v1.7/Plots/jl_0l3LvS.",
      "",
      "Stacktrace:",
      " [1] error(s::String)",
      "   @ Base ./error.jl:33",
      " [2] compilecache(pkg::Base.PkgId, path::String, internal_stderr::IO, internal_stdout::IO, ignore_loaded_modules::Bool)",
      "   @ Base ./loading.jl:1466",
      " [3] compilecache(pkg::Base.PkgId, path::String)",
      "   @ Base ./loading.jl:1410",
      " [4] _require(pkg::Base.PkgId)",
      "   @ Base ./loading.jl:1120",
      " [5] require(uuidkey::Base.PkgId)",
      "   @ Base ./loading.jl:1013",
      " [6] require(into::Module, mod::Symbol)",
      "   @ Base ./loading.jl:997",
      " [7] eval",
      "   @ ./boot.jl:373 [inlined]",
      " [8] include_string(mapexpr::typeof(REPL.softscope), mod::Module, code::String, filename::String)",
      "   @ Base ./loading.jl:1196"
     ]
    }
   ],
   "source": [
    "using Plots"
   ]
  },
  {
   "cell_type": "code",
   "execution_count": null,
   "id": "8e2982a4",
   "metadata": {},
   "outputs": [],
   "source": []
  }
 ],
 "metadata": {
  "kernelspec": {
   "display_name": "Julia 1.7.2",
   "language": "julia",
   "name": "julia-1.7"
  },
  "language_info": {
   "file_extension": ".jl",
   "mimetype": "application/julia",
   "name": "julia",
   "version": "1.7.2"
  }
 },
 "nbformat": 4,
 "nbformat_minor": 5
}
